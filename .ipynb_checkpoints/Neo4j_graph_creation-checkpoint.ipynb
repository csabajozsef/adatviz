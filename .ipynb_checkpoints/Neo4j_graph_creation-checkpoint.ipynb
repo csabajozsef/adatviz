{
 "cells": [
  {
   "cell_type": "code",
   "execution_count": 6,
   "id": "88dbaac0",
   "metadata": {},
   "outputs": [],
   "source": [
    "import numpy as np"
   ]
  },
  {
   "cell_type": "code",
   "execution_count": 7,
   "id": "7f77fb73",
   "metadata": {},
   "outputs": [],
   "source": [
    "from py2neo import Graph, Node, Relationship"
   ]
  },
  {
   "cell_type": "code",
   "execution_count": 8,
   "id": "02007ac7",
   "metadata": {},
   "outputs": [],
   "source": [
    "import pandas as pd"
   ]
  },
  {
   "cell_type": "code",
   "execution_count": 12,
   "id": "b019b9f4",
   "metadata": {},
   "outputs": [],
   "source": [
    "graph = Graph(\"bolt://localhost:7687\", auth=(\"neo4j\", \"monster\"))\n",
    "# graph.run(\"UNWIND range(1, 3) AS n RETURN n, n * n as n_sq\")"
   ]
  },
  {
   "cell_type": "code",
   "execution_count": 7,
   "id": "0875154e",
   "metadata": {},
   "outputs": [],
   "source": [
    "# ?graph.create"
   ]
  },
  {
   "cell_type": "code",
   "execution_count": 8,
   "id": "ec379d72",
   "metadata": {},
   "outputs": [],
   "source": [
    "# ?graph.nodes"
   ]
  },
  {
   "cell_type": "code",
   "execution_count": 6,
   "id": "320494fb",
   "metadata": {},
   "outputs": [],
   "source": [
    "# ?graph.nodes"
   ]
  },
  {
   "cell_type": "code",
   "execution_count": 16,
   "id": "f311dfff",
   "metadata": {},
   "outputs": [
    {
     "data": {
      "text/html": [
       "<div>\n",
       "<style scoped>\n",
       "    .dataframe tbody tr th:only-of-type {\n",
       "        vertical-align: middle;\n",
       "    }\n",
       "\n",
       "    .dataframe tbody tr th {\n",
       "        vertical-align: top;\n",
       "    }\n",
       "\n",
       "    .dataframe thead th {\n",
       "        text-align: right;\n",
       "    }\n",
       "</style>\n",
       "<table border=\"1\" class=\"dataframe\">\n",
       "  <thead>\n",
       "    <tr style=\"text-align: right;\">\n",
       "      <th></th>\n",
       "      <th>views</th>\n",
       "      <th>mature</th>\n",
       "      <th>life_time</th>\n",
       "      <th>created_at</th>\n",
       "      <th>updated_at</th>\n",
       "      <th>numeric_id</th>\n",
       "      <th>dead_account</th>\n",
       "      <th>language</th>\n",
       "      <th>affiliate</th>\n",
       "    </tr>\n",
       "  </thead>\n",
       "  <tbody>\n",
       "    <tr>\n",
       "      <th>0</th>\n",
       "      <td>7879</td>\n",
       "      <td>1</td>\n",
       "      <td>969</td>\n",
       "      <td>2016-02-16</td>\n",
       "      <td>2018-10-12</td>\n",
       "      <td>0</td>\n",
       "      <td>0</td>\n",
       "      <td>EN</td>\n",
       "      <td>1</td>\n",
       "    </tr>\n",
       "    <tr>\n",
       "      <th>1</th>\n",
       "      <td>500</td>\n",
       "      <td>0</td>\n",
       "      <td>2699</td>\n",
       "      <td>2011-05-19</td>\n",
       "      <td>2018-10-08</td>\n",
       "      <td>1</td>\n",
       "      <td>0</td>\n",
       "      <td>EN</td>\n",
       "      <td>0</td>\n",
       "    </tr>\n",
       "    <tr>\n",
       "      <th>2</th>\n",
       "      <td>382502</td>\n",
       "      <td>1</td>\n",
       "      <td>3149</td>\n",
       "      <td>2010-02-27</td>\n",
       "      <td>2018-10-12</td>\n",
       "      <td>2</td>\n",
       "      <td>0</td>\n",
       "      <td>EN</td>\n",
       "      <td>1</td>\n",
       "    </tr>\n",
       "    <tr>\n",
       "      <th>3</th>\n",
       "      <td>386</td>\n",
       "      <td>0</td>\n",
       "      <td>1344</td>\n",
       "      <td>2015-01-26</td>\n",
       "      <td>2018-10-01</td>\n",
       "      <td>3</td>\n",
       "      <td>0</td>\n",
       "      <td>EN</td>\n",
       "      <td>0</td>\n",
       "    </tr>\n",
       "    <tr>\n",
       "      <th>4</th>\n",
       "      <td>2486</td>\n",
       "      <td>0</td>\n",
       "      <td>1784</td>\n",
       "      <td>2013-11-22</td>\n",
       "      <td>2018-10-11</td>\n",
       "      <td>4</td>\n",
       "      <td>0</td>\n",
       "      <td>EN</td>\n",
       "      <td>0</td>\n",
       "    </tr>\n",
       "    <tr>\n",
       "      <th>...</th>\n",
       "      <td>...</td>\n",
       "      <td>...</td>\n",
       "      <td>...</td>\n",
       "      <td>...</td>\n",
       "      <td>...</td>\n",
       "      <td>...</td>\n",
       "      <td>...</td>\n",
       "      <td>...</td>\n",
       "      <td>...</td>\n",
       "    </tr>\n",
       "    <tr>\n",
       "      <th>168109</th>\n",
       "      <td>4965</td>\n",
       "      <td>0</td>\n",
       "      <td>810</td>\n",
       "      <td>2016-07-20</td>\n",
       "      <td>2018-10-08</td>\n",
       "      <td>168109</td>\n",
       "      <td>0</td>\n",
       "      <td>EN</td>\n",
       "      <td>0</td>\n",
       "    </tr>\n",
       "    <tr>\n",
       "      <th>168110</th>\n",
       "      <td>4128</td>\n",
       "      <td>1</td>\n",
       "      <td>2080</td>\n",
       "      <td>2013-01-31</td>\n",
       "      <td>2018-10-12</td>\n",
       "      <td>168110</td>\n",
       "      <td>0</td>\n",
       "      <td>EN</td>\n",
       "      <td>0</td>\n",
       "    </tr>\n",
       "    <tr>\n",
       "      <th>168111</th>\n",
       "      <td>3545</td>\n",
       "      <td>0</td>\n",
       "      <td>1797</td>\n",
       "      <td>2013-11-08</td>\n",
       "      <td>2018-10-10</td>\n",
       "      <td>168111</td>\n",
       "      <td>0</td>\n",
       "      <td>EN</td>\n",
       "      <td>1</td>\n",
       "    </tr>\n",
       "    <tr>\n",
       "      <th>168112</th>\n",
       "      <td>892736</td>\n",
       "      <td>1</td>\n",
       "      <td>2135</td>\n",
       "      <td>2012-12-07</td>\n",
       "      <td>2018-10-12</td>\n",
       "      <td>168112</td>\n",
       "      <td>0</td>\n",
       "      <td>EN</td>\n",
       "      <td>0</td>\n",
       "    </tr>\n",
       "    <tr>\n",
       "      <th>168113</th>\n",
       "      <td>791</td>\n",
       "      <td>0</td>\n",
       "      <td>2005</td>\n",
       "      <td>2013-01-22</td>\n",
       "      <td>2018-07-20</td>\n",
       "      <td>168113</td>\n",
       "      <td>0</td>\n",
       "      <td>EN</td>\n",
       "      <td>0</td>\n",
       "    </tr>\n",
       "  </tbody>\n",
       "</table>\n",
       "<p>168114 rows × 9 columns</p>\n",
       "</div>"
      ],
      "text/plain": [
       "         views  mature  life_time  created_at  updated_at  numeric_id  \\\n",
       "0         7879       1        969  2016-02-16  2018-10-12           0   \n",
       "1          500       0       2699  2011-05-19  2018-10-08           1   \n",
       "2       382502       1       3149  2010-02-27  2018-10-12           2   \n",
       "3          386       0       1344  2015-01-26  2018-10-01           3   \n",
       "4         2486       0       1784  2013-11-22  2018-10-11           4   \n",
       "...        ...     ...        ...         ...         ...         ...   \n",
       "168109    4965       0        810  2016-07-20  2018-10-08      168109   \n",
       "168110    4128       1       2080  2013-01-31  2018-10-12      168110   \n",
       "168111    3545       0       1797  2013-11-08  2018-10-10      168111   \n",
       "168112  892736       1       2135  2012-12-07  2018-10-12      168112   \n",
       "168113     791       0       2005  2013-01-22  2018-07-20      168113   \n",
       "\n",
       "        dead_account language  affiliate  \n",
       "0                  0       EN          1  \n",
       "1                  0       EN          0  \n",
       "2                  0       EN          1  \n",
       "3                  0       EN          0  \n",
       "4                  0       EN          0  \n",
       "...              ...      ...        ...  \n",
       "168109             0       EN          0  \n",
       "168110             0       EN          0  \n",
       "168111             0       EN          1  \n",
       "168112             0       EN          0  \n",
       "168113             0       EN          0  \n",
       "\n",
       "[168114 rows x 9 columns]"
      ]
     },
     "execution_count": 16,
     "metadata": {},
     "output_type": "execute_result"
    }
   ],
   "source": [
    "df_of_nodes = pd.read_csv(\"./Data/large_twitch_features.csv\")\n",
    "df_of_nodes"
   ]
  },
  {
   "cell_type": "code",
   "execution_count": 17,
   "id": "2c75432d",
   "metadata": {},
   "outputs": [
    {
     "data": {
      "text/plain": [
       "['views',\n",
       " 'mature',\n",
       " 'life_time',\n",
       " 'created_at',\n",
       " 'updated_at',\n",
       " 'numeric_id',\n",
       " 'dead_account',\n",
       " 'language',\n",
       " 'affiliate']"
      ]
     },
     "execution_count": 17,
     "metadata": {},
     "output_type": "execute_result"
    }
   ],
   "source": [
    "node_attributes_list = list(df_of_nodes.columns)\n",
    "node_attributes_list"
   ]
  },
  {
   "cell_type": "code",
   "execution_count": 15,
   "id": "c23363d8",
   "metadata": {},
   "outputs": [
    {
     "data": {
      "text/html": [
       "<table><tr><th>name</th><th>description</th><th>details</th></tr><tr><td style=\"text-align:left\">constraint_a625408b</td><td style=\"text-align:left\">CONSTRAINT ON ( user:user ) ASSERT (user.numeric_id) IS UNIQUE</td><td style=\"text-align:left\">Constraint( id=4, name=&#039;constraint_a625408b&#039;, type=&#039;UNIQUENESS&#039;, schema=(:user {numeric_id}), ownedIndex=3 )</td></tr></table>"
      ],
      "text/plain": [
       " name                | description                                                    | details                                                                                                      \n",
       "---------------------|----------------------------------------------------------------|--------------------------------------------------------------------------------------------------------------\n",
       " constraint_a625408b | CONSTRAINT ON ( user:user ) ASSERT (user.numeric_id) IS UNIQUE | Constraint( id=4, name='constraint_a625408b', type='UNIQUENESS', schema=(:user {numeric_id}), ownedIndex=3 ) "
      ]
     },
     "execution_count": 15,
     "metadata": {},
     "output_type": "execute_result"
    }
   ],
   "source": [
    "# graph.run(\"create constraint on (u:user) assert u.numeric_id is unique\")\n",
    "graph.run(\"CALL db.constraints\")"
   ]
  },
  {
   "cell_type": "code",
   "execution_count": null,
   "id": "a0ba00ad",
   "metadata": {},
   "outputs": [],
   "source": [
    "\"\"\"# nodes from pandas df line by line\n",
    "for index in range(168114):\n",
    "    #print(i)\n",
    "    dict_of_one_node_properties={} # new dict for all nodes, node = row in df\n",
    "    for attr in node_attributes_list: # curr node properties\n",
    "        if isinstance((df_of_nodes.loc[index,attr]), np.integer):\n",
    "            dict_of_one_node_properties[attr] = int(df_of_nodes.loc[index,attr])\n",
    "        #print(attr,\" : \",df_of_nodes.loc[index,attr])\n",
    "        else:\n",
    "            dict_of_one_node_properties[attr] = df_of_nodes.loc[index,attr]\n",
    "    node = Node(\"user\", **dict_of_one_node_properties)\n",
    "    graph.create(node)\"\"\""
   ]
  },
  {
   "cell_type": "code",
   "execution_count": 19,
   "id": "020fd76e",
   "metadata": {},
   "outputs": [],
   "source": [
    "# graph.delete_all()"
   ]
  },
  {
   "cell_type": "code",
   "execution_count": 33,
   "id": "2151cec8",
   "metadata": {},
   "outputs": [
    {
     "data": {
      "text/plain": [
       "'views:line.views, mature:line.mature, life_time:line.life_time, created_at:line.created_at, updated_at:line.updated_at, numeric_id:line.numeric_id, dead_account:line.dead_account, language:line.language, affiliate:line.affiliate'"
      ]
     },
     "execution_count": 33,
     "metadata": {},
     "output_type": "execute_result"
    }
   ],
   "source": [
    "t =[\"views\",\"mature\",\"life_time\",\"created_at\",\"updated_at\",\"numeric_id\",\"dead_account\",\"language\",\"affiliate\"]\n",
    "tt=[i + \":\" +\"line.\"+i for i in t ]\n",
    "\", \".join(tt)"
   ]
  },
  {
   "cell_type": "code",
   "execution_count": 17,
   "id": "eefb6aea",
   "metadata": {},
   "outputs": [
    {
     "data": {
      "text/html": [
       "(No data)"
      ],
      "text/plain": [
       "(No data)"
      ]
     },
     "execution_count": 17,
     "metadata": {},
     "output_type": "execute_result"
    }
   ],
   "source": [
    "# creade nodes from csv\n",
    "query1 = \"\"\"LOAD CSV WITH HEADERS FROM \"file:///large_twitch_features.csv\" AS line\n",
    "             CREATE (n:user {views:line.views, mature:line.mature, life_time:line.life_time, \n",
    "             created_at:date(line.created_at), updated_at:date(line.updated_at), numeric_id:line.numeric_id, \n",
    "             dead_account:line.dead_account, language:line.language, affiliate:line.affiliate})\n",
    "             \"\"\"\n",
    "# print(query1)\n",
    "graph.run(query1)"
   ]
  },
  {
   "cell_type": "code",
   "execution_count": 18,
   "id": "6f91fe30",
   "metadata": {},
   "outputs": [
    {
     "data": {
      "text/html": [
       "(No data)"
      ],
      "text/plain": [
       "(No data)"
      ]
     },
     "execution_count": 18,
     "metadata": {},
     "output_type": "execute_result"
    }
   ],
   "source": [
    "# create edges from csv\n",
    "query2 =\"\"\"USING PERIODIC COMMIT 1000\n",
    "            LOAD CSV WITH HEADERS FROM \"file:///large_twitch_edges.csv\" AS row\n",
    "            MATCH (p1:user), (p2:user)\n",
    "            WHERE p1.numeric_id = row.numeric_id_1 AND p2.numeric_id = row.numeric_id_2\n",
    "            CREATE (p1)-[:FOLLOWS]->(p2)\"\"\"\n",
    "graph.run(query2)"
   ]
  },
  {
   "cell_type": "code",
   "execution_count": 16,
   "id": "10d6a0e8",
   "metadata": {},
   "outputs": [],
   "source": [
    "# All positional arguments passed to the constructor are interpreted as labels \n",
    "# and all keyword arguments as properties\n",
    "# node = Node(\"user\", **dict_of_one_node_properties) \n",
    "# node label = user, utána key value pairs - node properties\n",
    "# node.items() # get node properties"
   ]
  },
  {
   "cell_type": "code",
   "execution_count": null,
   "id": "873aab82",
   "metadata": {},
   "outputs": [],
   "source": [
    "# bulk loading - py2neo\n",
    "# edgeket betölteni, ha nincs hozzá node létrehozni - merge!"
   ]
  },
  {
   "cell_type": "code",
   "execution_count": null,
   "id": "206dd3a0",
   "metadata": {},
   "outputs": [],
   "source": [
    "# The match needs the label portion to utilize the index.\n",
    "# Try replacing MATCH (m),(n) with MATCH (m:Address), (n:Address)"
   ]
  },
  {
   "cell_type": "code",
   "execution_count": 12,
   "id": "2411e1dc",
   "metadata": {},
   "outputs": [
    {
     "data": {
      "text/plain": [
       "numeric_id_1    int64\n",
       "numeric_id_2    int64\n",
       "dtype: object"
      ]
     },
     "execution_count": 12,
     "metadata": {},
     "output_type": "execute_result"
    }
   ],
   "source": [
    "df_of_edges = pd.read_csv(\"./Data/large_twitch_edges.csv\")\n",
    "df_of_edges.dtypes"
   ]
  },
  {
   "cell_type": "code",
   "execution_count": 4,
   "id": "59f71731",
   "metadata": {},
   "outputs": [
    {
     "data": {
      "text/plain": [
       "6797557"
      ]
     },
     "execution_count": 4,
     "metadata": {},
     "output_type": "execute_result"
    }
   ],
   "source": [
    "len(graph.relationships)"
   ]
  },
  {
   "cell_type": "code",
   "execution_count": 5,
   "id": "86bb8f84",
   "metadata": {},
   "outputs": [
    {
     "data": {
      "text/plain": [
       "168114"
      ]
     },
     "execution_count": 5,
     "metadata": {},
     "output_type": "execute_result"
    }
   ],
   "source": [
    "len(graph.nodes)"
   ]
  },
  {
   "cell_type": "code",
   "execution_count": null,
   "id": "14e572c1",
   "metadata": {},
   "outputs": [],
   "source": []
  }
 ],
 "metadata": {
  "kernelspec": {
   "display_name": "Python 3 (ipykernel)",
   "language": "python",
   "name": "python3"
  },
  "language_info": {
   "codemirror_mode": {
    "name": "ipython",
    "version": 3
   },
   "file_extension": ".py",
   "mimetype": "text/x-python",
   "name": "python",
   "nbconvert_exporter": "python",
   "pygments_lexer": "ipython3",
   "version": "3.9.7"
  }
 },
 "nbformat": 4,
 "nbformat_minor": 5
}
