{
 "cells": [
  {
   "cell_type": "code",
   "execution_count": 2,
   "id": "185f879d",
   "metadata": {},
   "outputs": [],
   "source": [
    "import numpy as np\n",
    "from py2neo import Graph, Node, Relationship\n",
    "import pandas as pd\n",
    "import graphistry"
   ]
  },
  {
   "cell_type": "markdown",
   "id": "d937c3a6",
   "metadata": {},
   "source": [
    "#### Workflow\n",
    "* Pandas -> Neo4j API query (get nodes with given properties for example)\n",
    "* Pandas <- Neo4j API query (query results to pandas, we can use the Neo4j features here)\n",
    "* Pandas -> graphistry (visualiztaion, we can use different tools as well)\n",
    "* Neo4j -> graphistry (?)\n"
   ]
  },
  {
   "cell_type": "code",
   "execution_count": 13,
   "id": "7855ca31",
   "metadata": {},
   "outputs": [],
   "source": []
  },
  {
   "cell_type": "code",
   "execution_count": 3,
   "id": "c1150a21",
   "metadata": {},
   "outputs": [],
   "source": [
    "graph = Graph(\"bolt://localhost:7687\", auth=(\"neo4j\", \"monster\"))"
   ]
  },
  {
   "cell_type": "code",
   "execution_count": 4,
   "id": "956bf3ed",
   "metadata": {},
   "outputs": [
    {
     "data": {
      "text/plain": "           views  mature  life_time  created_at  updated_at  numeric_id  \\\n137180       609       0       4158  2007-05-22  2018-10-09      137180   \n82200   24316020       0       4161  2007-05-22  2018-10-12       82200   \n49584      25965       0       4160  2007-05-22  2018-10-11       49584   \n31140   10667564       0       4161  2007-05-22  2018-10-12       31140   \n39212       3116       1       4155  2007-05-22  2018-10-06       39212   \n...          ...     ...        ...         ...         ...         ...   \n24516         15       0         69  2018-05-12  2018-07-20       24516   \n33361        125       0        119  2018-05-12  2018-09-08       33361   \n4753        3281       1        150  2018-05-12  2018-10-09        4753   \n57456        656       1        152  2018-05-13  2018-10-12       57456   \n93047        881       0        148  2018-05-13  2018-10-08       93047   \n\n        dead_account language  affiliate  \n137180             0       EN          0  \n82200              0       EN          0  \n49584              0       SV          0  \n31140              0       EN          0  \n39212              0       EN          0  \n...              ...      ...        ...  \n24516              0       EN          0  \n33361              0       EN          0  \n4753               0       RU          1  \n57456              0       EN          0  \n93047              0       EN          1  \n\n[168114 rows x 9 columns]",
      "text/html": "<div>\n<style scoped>\n    .dataframe tbody tr th:only-of-type {\n        vertical-align: middle;\n    }\n\n    .dataframe tbody tr th {\n        vertical-align: top;\n    }\n\n    .dataframe thead th {\n        text-align: right;\n    }\n</style>\n<table border=\"1\" class=\"dataframe\">\n  <thead>\n    <tr style=\"text-align: right;\">\n      <th></th>\n      <th>views</th>\n      <th>mature</th>\n      <th>life_time</th>\n      <th>created_at</th>\n      <th>updated_at</th>\n      <th>numeric_id</th>\n      <th>dead_account</th>\n      <th>language</th>\n      <th>affiliate</th>\n    </tr>\n  </thead>\n  <tbody>\n    <tr>\n      <th>137180</th>\n      <td>609</td>\n      <td>0</td>\n      <td>4158</td>\n      <td>2007-05-22</td>\n      <td>2018-10-09</td>\n      <td>137180</td>\n      <td>0</td>\n      <td>EN</td>\n      <td>0</td>\n    </tr>\n    <tr>\n      <th>82200</th>\n      <td>24316020</td>\n      <td>0</td>\n      <td>4161</td>\n      <td>2007-05-22</td>\n      <td>2018-10-12</td>\n      <td>82200</td>\n      <td>0</td>\n      <td>EN</td>\n      <td>0</td>\n    </tr>\n    <tr>\n      <th>49584</th>\n      <td>25965</td>\n      <td>0</td>\n      <td>4160</td>\n      <td>2007-05-22</td>\n      <td>2018-10-11</td>\n      <td>49584</td>\n      <td>0</td>\n      <td>SV</td>\n      <td>0</td>\n    </tr>\n    <tr>\n      <th>31140</th>\n      <td>10667564</td>\n      <td>0</td>\n      <td>4161</td>\n      <td>2007-05-22</td>\n      <td>2018-10-12</td>\n      <td>31140</td>\n      <td>0</td>\n      <td>EN</td>\n      <td>0</td>\n    </tr>\n    <tr>\n      <th>39212</th>\n      <td>3116</td>\n      <td>1</td>\n      <td>4155</td>\n      <td>2007-05-22</td>\n      <td>2018-10-06</td>\n      <td>39212</td>\n      <td>0</td>\n      <td>EN</td>\n      <td>0</td>\n    </tr>\n    <tr>\n      <th>...</th>\n      <td>...</td>\n      <td>...</td>\n      <td>...</td>\n      <td>...</td>\n      <td>...</td>\n      <td>...</td>\n      <td>...</td>\n      <td>...</td>\n      <td>...</td>\n    </tr>\n    <tr>\n      <th>24516</th>\n      <td>15</td>\n      <td>0</td>\n      <td>69</td>\n      <td>2018-05-12</td>\n      <td>2018-07-20</td>\n      <td>24516</td>\n      <td>0</td>\n      <td>EN</td>\n      <td>0</td>\n    </tr>\n    <tr>\n      <th>33361</th>\n      <td>125</td>\n      <td>0</td>\n      <td>119</td>\n      <td>2018-05-12</td>\n      <td>2018-09-08</td>\n      <td>33361</td>\n      <td>0</td>\n      <td>EN</td>\n      <td>0</td>\n    </tr>\n    <tr>\n      <th>4753</th>\n      <td>3281</td>\n      <td>1</td>\n      <td>150</td>\n      <td>2018-05-12</td>\n      <td>2018-10-09</td>\n      <td>4753</td>\n      <td>0</td>\n      <td>RU</td>\n      <td>1</td>\n    </tr>\n    <tr>\n      <th>57456</th>\n      <td>656</td>\n      <td>1</td>\n      <td>152</td>\n      <td>2018-05-13</td>\n      <td>2018-10-12</td>\n      <td>57456</td>\n      <td>0</td>\n      <td>EN</td>\n      <td>0</td>\n    </tr>\n    <tr>\n      <th>93047</th>\n      <td>881</td>\n      <td>0</td>\n      <td>148</td>\n      <td>2018-05-13</td>\n      <td>2018-10-08</td>\n      <td>93047</td>\n      <td>0</td>\n      <td>EN</td>\n      <td>1</td>\n    </tr>\n  </tbody>\n</table>\n<p>168114 rows × 9 columns</p>\n</div>"
     },
     "execution_count": 4,
     "metadata": {},
     "output_type": "execute_result"
    }
   ],
   "source": [
    "df_of_nodes = pd.read_csv(\"./Data/large_twitch_features.csv\")\n",
    "df_of_nodes.sort_values(by=[\"created_at\"])"
   ]
  },
  {
   "cell_type": "code",
   "execution_count": 5,
   "id": "8204b273",
   "metadata": {},
   "outputs": [],
   "source": [
    "# dates without day give the monsth's first day \n",
    "query_for_given_date = \"\"\"\n",
    "    MATCH (u:user)\n",
    "    WHERE date({year: 2007, month: 12}) > u.created_at >= date({year: 2007, month: 5, day: 22})\n",
    "    RETURN u.numeric_id AS id, u.created_at AS CREATED_AT, u.language AS LANGUAGE \n",
    "    \"\"\""
   ]
  },
  {
   "cell_type": "code",
   "execution_count": 6,
   "id": "49e2241f",
   "metadata": {},
   "outputs": [
    {
     "data": {
      "text/plain": "         id  CREATED_AT LANGUAGE\n0       294  2007-05-22       EN\n1       599  2007-07-13       EN\n2       863  2007-10-07       EN\n3      2750  2007-09-29       EN\n4      3035  2007-10-08       EN\n..      ...         ...      ...\n117  164770  2007-09-09       EN\n118  164817  2007-08-25       EN\n119  165474  2007-10-14       EN\n120  165738  2007-11-08       EN\n121  167540  2007-09-01       EN\n\n[122 rows x 3 columns]",
      "text/html": "<div>\n<style scoped>\n    .dataframe tbody tr th:only-of-type {\n        vertical-align: middle;\n    }\n\n    .dataframe tbody tr th {\n        vertical-align: top;\n    }\n\n    .dataframe thead th {\n        text-align: right;\n    }\n</style>\n<table border=\"1\" class=\"dataframe\">\n  <thead>\n    <tr style=\"text-align: right;\">\n      <th></th>\n      <th>id</th>\n      <th>CREATED_AT</th>\n      <th>LANGUAGE</th>\n    </tr>\n  </thead>\n  <tbody>\n    <tr>\n      <th>0</th>\n      <td>294</td>\n      <td>2007-05-22</td>\n      <td>EN</td>\n    </tr>\n    <tr>\n      <th>1</th>\n      <td>599</td>\n      <td>2007-07-13</td>\n      <td>EN</td>\n    </tr>\n    <tr>\n      <th>2</th>\n      <td>863</td>\n      <td>2007-10-07</td>\n      <td>EN</td>\n    </tr>\n    <tr>\n      <th>3</th>\n      <td>2750</td>\n      <td>2007-09-29</td>\n      <td>EN</td>\n    </tr>\n    <tr>\n      <th>4</th>\n      <td>3035</td>\n      <td>2007-10-08</td>\n      <td>EN</td>\n    </tr>\n    <tr>\n      <th>...</th>\n      <td>...</td>\n      <td>...</td>\n      <td>...</td>\n    </tr>\n    <tr>\n      <th>117</th>\n      <td>164770</td>\n      <td>2007-09-09</td>\n      <td>EN</td>\n    </tr>\n    <tr>\n      <th>118</th>\n      <td>164817</td>\n      <td>2007-08-25</td>\n      <td>EN</td>\n    </tr>\n    <tr>\n      <th>119</th>\n      <td>165474</td>\n      <td>2007-10-14</td>\n      <td>EN</td>\n    </tr>\n    <tr>\n      <th>120</th>\n      <td>165738</td>\n      <td>2007-11-08</td>\n      <td>EN</td>\n    </tr>\n    <tr>\n      <th>121</th>\n      <td>167540</td>\n      <td>2007-09-01</td>\n      <td>EN</td>\n    </tr>\n  </tbody>\n</table>\n<p>122 rows × 3 columns</p>\n</div>"
     },
     "execution_count": 6,
     "metadata": {},
     "output_type": "execute_result"
    }
   ],
   "source": [
    "q_for_date_data = graph.run(query_for_given_date).to_data_frame()\n",
    "q_for_date_data"
   ]
  },
  {
   "cell_type": "code",
   "execution_count": 7,
   "id": "ec2e1d21",
   "metadata": {},
   "outputs": [],
   "source": [
    "query_for_edges = \"\"\"\n",
    "    MATCH (u1:user)-[:FOLLOWS]-(u2:user)\n",
    "    WHERE date({year: 2007, month: 12}) > u1.created_at >= date({year: 2007, month: 5, day: 22}) AND\n",
    "         date({year: 2007, month: 12}) > u2.created_at >= date({year: 2007, month: 5, day: 22})\n",
    "    RETURN u1.numeric_id AS id1, u2.numeric_id AS id2, u1.created_at AS CREATED_AT_1, \n",
    "    u2.created_at AS CREATED_AT_2\n",
    "    \"\"\""
   ]
  },
  {
   "cell_type": "code",
   "execution_count": 8,
   "id": "f418d243",
   "metadata": {},
   "outputs": [
    {
     "data": {
      "text/plain": "        id1     id2 CREATED_AT_1 CREATED_AT_2\n0       294   40326   2007-05-22   2007-05-22\n1       599   40326   2007-07-13   2007-05-22\n2       863   58773   2007-10-07   2007-06-28\n3      4970   52703   2007-10-14   2007-05-22\n4      6201   90697   2007-09-13   2007-10-25\n..      ...     ...          ...          ...\n191  162770  142634   2007-11-06   2007-05-29\n192  163924  152996   2007-07-06   2007-07-05\n193  165474   52703   2007-10-14   2007-05-22\n194  165474  160946   2007-10-14   2007-06-29\n195  165738   30597   2007-11-08   2007-10-22\n\n[196 rows x 4 columns]",
      "text/html": "<div>\n<style scoped>\n    .dataframe tbody tr th:only-of-type {\n        vertical-align: middle;\n    }\n\n    .dataframe tbody tr th {\n        vertical-align: top;\n    }\n\n    .dataframe thead th {\n        text-align: right;\n    }\n</style>\n<table border=\"1\" class=\"dataframe\">\n  <thead>\n    <tr style=\"text-align: right;\">\n      <th></th>\n      <th>id1</th>\n      <th>id2</th>\n      <th>CREATED_AT_1</th>\n      <th>CREATED_AT_2</th>\n    </tr>\n  </thead>\n  <tbody>\n    <tr>\n      <th>0</th>\n      <td>294</td>\n      <td>40326</td>\n      <td>2007-05-22</td>\n      <td>2007-05-22</td>\n    </tr>\n    <tr>\n      <th>1</th>\n      <td>599</td>\n      <td>40326</td>\n      <td>2007-07-13</td>\n      <td>2007-05-22</td>\n    </tr>\n    <tr>\n      <th>2</th>\n      <td>863</td>\n      <td>58773</td>\n      <td>2007-10-07</td>\n      <td>2007-06-28</td>\n    </tr>\n    <tr>\n      <th>3</th>\n      <td>4970</td>\n      <td>52703</td>\n      <td>2007-10-14</td>\n      <td>2007-05-22</td>\n    </tr>\n    <tr>\n      <th>4</th>\n      <td>6201</td>\n      <td>90697</td>\n      <td>2007-09-13</td>\n      <td>2007-10-25</td>\n    </tr>\n    <tr>\n      <th>...</th>\n      <td>...</td>\n      <td>...</td>\n      <td>...</td>\n      <td>...</td>\n    </tr>\n    <tr>\n      <th>191</th>\n      <td>162770</td>\n      <td>142634</td>\n      <td>2007-11-06</td>\n      <td>2007-05-29</td>\n    </tr>\n    <tr>\n      <th>192</th>\n      <td>163924</td>\n      <td>152996</td>\n      <td>2007-07-06</td>\n      <td>2007-07-05</td>\n    </tr>\n    <tr>\n      <th>193</th>\n      <td>165474</td>\n      <td>52703</td>\n      <td>2007-10-14</td>\n      <td>2007-05-22</td>\n    </tr>\n    <tr>\n      <th>194</th>\n      <td>165474</td>\n      <td>160946</td>\n      <td>2007-10-14</td>\n      <td>2007-06-29</td>\n    </tr>\n    <tr>\n      <th>195</th>\n      <td>165738</td>\n      <td>30597</td>\n      <td>2007-11-08</td>\n      <td>2007-10-22</td>\n    </tr>\n  </tbody>\n</table>\n<p>196 rows × 4 columns</p>\n</div>"
     },
     "execution_count": 8,
     "metadata": {},
     "output_type": "execute_result"
    }
   ],
   "source": [
    "q_for_date_edges = graph.run(query_for_edges).to_data_frame()\n",
    "q_for_date_edges"
   ]
  },
  {
   "cell_type": "code",
   "execution_count": 9,
   "id": "94bffd12",
   "metadata": {},
   "outputs": [
    {
     "data": {
      "text/plain": "Index(['id1', 'id2', 'CREATED_AT_1', 'CREATED_AT_2'], dtype='object')"
     },
     "execution_count": 9,
     "metadata": {},
     "output_type": "execute_result"
    }
   ],
   "source": [
    "q_for_date_edges.columns"
   ]
  },
  {
   "cell_type": "code",
   "execution_count": 10,
   "id": "fcd36b79",
   "metadata": {},
   "outputs": [
    {
     "data": {
      "text/plain": "        id1     id2\n0       294   40326\n1       599   40326\n2       863   58773\n3      4970   52703\n4      6201   90697\n..      ...     ...\n191  162770  142634\n192  163924  152996\n193  165474   52703\n194  165474  160946\n195  165738   30597\n\n[196 rows x 2 columns]",
      "text/html": "<div>\n<style scoped>\n    .dataframe tbody tr th:only-of-type {\n        vertical-align: middle;\n    }\n\n    .dataframe tbody tr th {\n        vertical-align: top;\n    }\n\n    .dataframe thead th {\n        text-align: right;\n    }\n</style>\n<table border=\"1\" class=\"dataframe\">\n  <thead>\n    <tr style=\"text-align: right;\">\n      <th></th>\n      <th>id1</th>\n      <th>id2</th>\n    </tr>\n  </thead>\n  <tbody>\n    <tr>\n      <th>0</th>\n      <td>294</td>\n      <td>40326</td>\n    </tr>\n    <tr>\n      <th>1</th>\n      <td>599</td>\n      <td>40326</td>\n    </tr>\n    <tr>\n      <th>2</th>\n      <td>863</td>\n      <td>58773</td>\n    </tr>\n    <tr>\n      <th>3</th>\n      <td>4970</td>\n      <td>52703</td>\n    </tr>\n    <tr>\n      <th>4</th>\n      <td>6201</td>\n      <td>90697</td>\n    </tr>\n    <tr>\n      <th>...</th>\n      <td>...</td>\n      <td>...</td>\n    </tr>\n    <tr>\n      <th>191</th>\n      <td>162770</td>\n      <td>142634</td>\n    </tr>\n    <tr>\n      <th>192</th>\n      <td>163924</td>\n      <td>152996</td>\n    </tr>\n    <tr>\n      <th>193</th>\n      <td>165474</td>\n      <td>52703</td>\n    </tr>\n    <tr>\n      <th>194</th>\n      <td>165474</td>\n      <td>160946</td>\n    </tr>\n    <tr>\n      <th>195</th>\n      <td>165738</td>\n      <td>30597</td>\n    </tr>\n  </tbody>\n</table>\n<p>196 rows × 2 columns</p>\n</div>"
     },
     "execution_count": 10,
     "metadata": {},
     "output_type": "execute_result"
    }
   ],
   "source": [
    "q_for_date_new = q_for_date_edges[['id1', 'id2']]\n",
    "q_for_date_new"
   ]
  },
  {
   "cell_type": "code",
   "execution_count": 13,
   "id": "1a5cacc0",
   "metadata": {
    "scrolled": true
   },
   "outputs": [
    {
     "data": {
      "text/plain": "<IPython.core.display.HTML object>",
      "text/html": "\n            <iframe id=\"76c2e30b-13c3-4ba6-9379-fce8669f7d35\" src=\"https://hub.graphistry.com/graph/graph.html?dataset=2bbd0b78ca39418ba49032c711008a47&type=arrow&viztoken=00b8e162-4af9-434a-a156-eb6fb5fa8378&usertag=5835c808-pygraphistry-0.20.5&splashAfter=1646855112&info=true\"\n                    allowfullscreen=\"true\" webkitallowfullscreen=\"true\" mozallowfullscreen=\"true\"\n                    oallowfullscreen=\"true\" msallowfullscreen=\"true\"\n                    style=\"width:100%; height:500px; border: 1px solid #DDD; overflow: hidden\"\n                    \n            >\n            </iframe>\n        \n            <script>\n                try {\n                  $(\"#76c2e30b-13c3-4ba6-9379-fce8669f7d35\").bind('mousewheel', function(e) { e.preventDefault(); });\n                } catch (e) { console.error('exn catching scroll', e); }\n            </script>\n        "
     },
     "execution_count": 13,
     "metadata": {},
     "output_type": "execute_result"
    }
   ],
   "source": [
    "graphistry.edges(q_for_date_new, 'id1', 'id2').plot()"
   ]
  },
  {
   "cell_type": "code",
   "execution_count": 232,
   "id": "2c170b69",
   "metadata": {},
   "outputs": [
    {
     "data": {
      "text/html": [
       "<div>\n",
       "<style scoped>\n",
       "    .dataframe tbody tr th:only-of-type {\n",
       "        vertical-align: middle;\n",
       "    }\n",
       "\n",
       "    .dataframe tbody tr th {\n",
       "        vertical-align: top;\n",
       "    }\n",
       "\n",
       "    .dataframe thead th {\n",
       "        text-align: right;\n",
       "    }\n",
       "</style>\n",
       "<table border=\"1\" class=\"dataframe\">\n",
       "  <thead>\n",
       "    <tr style=\"text-align: right;\">\n",
       "      <th></th>\n",
       "      <th>numeric_id_1</th>\n",
       "      <th>numeric_id_2</th>\n",
       "    </tr>\n",
       "  </thead>\n",
       "  <tbody>\n",
       "    <tr>\n",
       "      <th>0</th>\n",
       "      <td>98343</td>\n",
       "      <td>141493</td>\n",
       "    </tr>\n",
       "    <tr>\n",
       "      <th>1</th>\n",
       "      <td>98343</td>\n",
       "      <td>58736</td>\n",
       "    </tr>\n",
       "  </tbody>\n",
       "</table>\n",
       "</div>"
      ],
      "text/plain": [
       "   numeric_id_1  numeric_id_2\n",
       "0         98343        141493\n",
       "1         98343         58736"
      ]
     },
     "execution_count": 232,
     "metadata": {},
     "output_type": "execute_result"
    }
   ],
   "source": [
    "df_of_edges = pd.read_csv(\"./Data/large_twitch_edges.csv\")\n",
    "df_of_edges.head(2)"
   ]
  },
  {
   "cell_type": "code",
   "execution_count": null,
   "id": "5a2bf5c0",
   "metadata": {},
   "outputs": [],
   "source": [
    "graphistry.edges(q_for_date_new, 'id1', 'id2').plot()"
   ]
  },
  {
   "cell_type": "code",
   "execution_count": null,
   "id": "70e050eb",
   "metadata": {},
   "outputs": [],
   "source": []
  },
  {
   "cell_type": "code",
   "execution_count": 222,
   "id": "dcbf4915",
   "metadata": {},
   "outputs": [
    {
     "ename": "NotImplementedError",
     "evalue": "",
     "output_type": "error",
     "traceback": [
      "\u001B[1;31m---------------------------------------------------------------------------\u001B[0m",
      "\u001B[1;31mNotImplementedError\u001B[0m                       Traceback (most recent call last)",
      "\u001B[1;32m~\\AppData\\Local\\Temp/ipykernel_16280/2109048370.py\u001B[0m in \u001B[0;36m<module>\u001B[1;34m\u001B[0m\n\u001B[0;32m      1\u001B[0m \u001B[0mg\u001B[0m \u001B[1;33m=\u001B[0m \u001B[0mgraphistry\u001B[0m\u001B[1;33m.\u001B[0m\u001B[0mbind\u001B[0m\u001B[1;33m(\u001B[0m\u001B[1;33m)\u001B[0m\u001B[1;33m\u001B[0m\u001B[1;33m\u001B[0m\u001B[0m\n\u001B[0;32m      2\u001B[0m \u001B[0mg\u001B[0m \u001B[1;33m=\u001B[0m \u001B[0mg\u001B[0m\u001B[1;33m.\u001B[0m\u001B[0mbind\u001B[0m\u001B[1;33m(\u001B[0m\u001B[0msource\u001B[0m\u001B[1;33m=\u001B[0m\u001B[1;34m\"id1\"\u001B[0m\u001B[1;33m,\u001B[0m \u001B[0mdestination\u001B[0m\u001B[1;33m=\u001B[0m\u001B[1;34m\"id2\"\u001B[0m\u001B[1;33m,\u001B[0m \u001B[0mnode\u001B[0m\u001B[1;33m=\u001B[0m\u001B[1;34m'id'\u001B[0m\u001B[1;33m)\u001B[0m\u001B[1;33m.\u001B[0m\u001B[0mnodes\u001B[0m\u001B[1;33m(\u001B[0m\u001B[0mq_for_date_data\u001B[0m\u001B[1;33m)\u001B[0m\u001B[1;33m.\u001B[0m\u001B[0medges\u001B[0m\u001B[1;33m(\u001B[0m\u001B[0mq_for_date_edges\u001B[0m\u001B[1;33m)\u001B[0m\u001B[1;33m\u001B[0m\u001B[1;33m\u001B[0m\u001B[0m\n\u001B[1;32m----> 3\u001B[1;33m \u001B[0mg\u001B[0m\u001B[1;33m.\u001B[0m\u001B[0mplot\u001B[0m\u001B[1;33m(\u001B[0m\u001B[1;33m)\u001B[0m\u001B[1;33m\u001B[0m\u001B[1;33m\u001B[0m\u001B[0m\n\u001B[0m\u001B[0;32m      4\u001B[0m \"\"\"\n\u001B[0;32m      5\u001B[0m \u001B[0mig\u001B[0m \u001B[1;33m=\u001B[0m \u001B[0mg\u001B[0m\u001B[1;33m.\u001B[0m\u001B[0mpandas2igraph\u001B[0m\u001B[1;33m(\u001B[0m\u001B[0mq_for_date_edges\u001B[0m\u001B[1;33m)\u001B[0m\u001B[1;33m\u001B[0m\u001B[1;33m\u001B[0m\u001B[0m\n",
      "\u001B[1;32m~\\anaconda3\\lib\\site-packages\\graphistry\\PlotterBase.py\u001B[0m in \u001B[0;36mplot\u001B[1;34m(self, graph, nodes, name, description, render, skip_upload, as_files, memoize, extra_html, override_html_style)\u001B[0m\n\u001B[0;32m   1231\u001B[0m         \u001B[1;32melif\u001B[0m \u001B[0mapi_version\u001B[0m \u001B[1;33m==\u001B[0m \u001B[1;36m3\u001B[0m\u001B[1;33m:\u001B[0m\u001B[1;33m\u001B[0m\u001B[1;33m\u001B[0m\u001B[0m\n\u001B[0;32m   1232\u001B[0m             \u001B[0mPyGraphistry\u001B[0m\u001B[1;33m.\u001B[0m\u001B[0mrefresh\u001B[0m\u001B[1;33m(\u001B[0m\u001B[1;33m)\u001B[0m\u001B[1;33m\u001B[0m\u001B[1;33m\u001B[0m\u001B[0m\n\u001B[1;32m-> 1233\u001B[1;33m             \u001B[0mdataset\u001B[0m \u001B[1;33m=\u001B[0m \u001B[0mself\u001B[0m\u001B[1;33m.\u001B[0m\u001B[0m_plot_dispatch\u001B[0m\u001B[1;33m(\u001B[0m\u001B[0mg\u001B[0m\u001B[1;33m,\u001B[0m \u001B[0mn\u001B[0m\u001B[1;33m,\u001B[0m \u001B[0mname\u001B[0m\u001B[1;33m,\u001B[0m \u001B[0mdescription\u001B[0m\u001B[1;33m,\u001B[0m \u001B[1;34m'arrow'\u001B[0m\u001B[1;33m,\u001B[0m \u001B[0mself\u001B[0m\u001B[1;33m.\u001B[0m\u001B[0m_style\u001B[0m\u001B[1;33m,\u001B[0m \u001B[0mmemoize\u001B[0m\u001B[1;33m)\u001B[0m\u001B[1;33m\u001B[0m\u001B[1;33m\u001B[0m\u001B[0m\n\u001B[0m\u001B[0;32m   1234\u001B[0m             \u001B[1;32mif\u001B[0m \u001B[0mskip_upload\u001B[0m\u001B[1;33m:\u001B[0m\u001B[1;33m\u001B[0m\u001B[1;33m\u001B[0m\u001B[0m\n\u001B[0;32m   1235\u001B[0m                 \u001B[1;32mreturn\u001B[0m \u001B[0mdataset\u001B[0m\u001B[1;33m\u001B[0m\u001B[1;33m\u001B[0m\u001B[0m\n",
      "\u001B[1;32m~\\anaconda3\\lib\\site-packages\\graphistry\\PlotterBase.py\u001B[0m in \u001B[0;36m_plot_dispatch\u001B[1;34m(self, graph, nodes, name, description, mode, metadata, memoize)\u001B[0m\n\u001B[0;32m   1398\u001B[0m                 \u001B[1;32mor\u001B[0m \u001B[1;33m(\u001B[0m \u001B[1;32mnot\u001B[0m \u001B[1;33m(\u001B[0m\u001B[0mmaybe_dask_dataframe\u001B[0m \u001B[1;32mis\u001B[0m \u001B[1;32mNone\u001B[0m\u001B[1;33m)\u001B[0m \u001B[1;32mand\u001B[0m \u001B[0misinstance\u001B[0m\u001B[1;33m(\u001B[0m\u001B[0mgraph\u001B[0m\u001B[1;33m,\u001B[0m \u001B[0mmaybe_dask_dataframe\u001B[0m\u001B[1;33m.\u001B[0m\u001B[0mDataFrame\u001B[0m\u001B[1;33m)\u001B[0m \u001B[1;33m)\u001B[0m\u001B[0;31m \u001B[0m\u001B[0;31m\\\u001B[0m\u001B[1;33m\u001B[0m\u001B[1;33m\u001B[0m\u001B[0m\n\u001B[0;32m   1399\u001B[0m                 \u001B[1;32mor\u001B[0m \u001B[1;33m(\u001B[0m \u001B[1;32mnot\u001B[0m \u001B[1;33m(\u001B[0m\u001B[0mmaybe_spark\u001B[0m \u001B[1;32mis\u001B[0m \u001B[1;32mNone\u001B[0m\u001B[1;33m)\u001B[0m \u001B[1;32mand\u001B[0m \u001B[0misinstance\u001B[0m\u001B[1;33m(\u001B[0m\u001B[0mgraph\u001B[0m\u001B[1;33m,\u001B[0m \u001B[0mpyspark\u001B[0m\u001B[1;33m.\u001B[0m\u001B[0msql\u001B[0m\u001B[1;33m.\u001B[0m\u001B[0mdataframe\u001B[0m\u001B[1;33m.\u001B[0m\u001B[0mDataFrame\u001B[0m\u001B[1;33m)\u001B[0m \u001B[1;33m)\u001B[0m\u001B[1;33m:\u001B[0m\u001B[1;33m\u001B[0m\u001B[1;33m\u001B[0m\u001B[0m\n\u001B[1;32m-> 1400\u001B[1;33m             \u001B[1;32mreturn\u001B[0m \u001B[0mg\u001B[0m\u001B[1;33m.\u001B[0m\u001B[0m_make_dataset\u001B[0m\u001B[1;33m(\u001B[0m\u001B[0mgraph\u001B[0m\u001B[1;33m,\u001B[0m \u001B[0mnodes\u001B[0m\u001B[1;33m,\u001B[0m \u001B[0mname\u001B[0m\u001B[1;33m,\u001B[0m \u001B[0mdescription\u001B[0m\u001B[1;33m,\u001B[0m \u001B[0mmode\u001B[0m\u001B[1;33m,\u001B[0m \u001B[0mmetadata\u001B[0m\u001B[1;33m,\u001B[0m \u001B[0mmemoize\u001B[0m\u001B[1;33m)\u001B[0m\u001B[1;33m\u001B[0m\u001B[1;33m\u001B[0m\u001B[0m\n\u001B[0m\u001B[0;32m   1401\u001B[0m \u001B[1;33m\u001B[0m\u001B[0m\n\u001B[0;32m   1402\u001B[0m         \u001B[1;32mtry\u001B[0m\u001B[1;33m:\u001B[0m\u001B[1;33m\u001B[0m\u001B[1;33m\u001B[0m\u001B[0m\n",
      "\u001B[1;32m~\\anaconda3\\lib\\site-packages\\graphistry\\PlotterBase.py\u001B[0m in \u001B[0;36m_make_dataset\u001B[1;34m(self, edges, nodes, name, description, mode, metadata, memoize)\u001B[0m\n\u001B[0;32m   1703\u001B[0m             \u001B[1;32mreturn\u001B[0m \u001B[0mself\u001B[0m\u001B[1;33m.\u001B[0m\u001B[0m_make_vgraph_dataset\u001B[0m\u001B[1;33m(\u001B[0m\u001B[0medges_df\u001B[0m\u001B[1;33m,\u001B[0m \u001B[0mnodes_df\u001B[0m\u001B[1;33m,\u001B[0m \u001B[0mname\u001B[0m\u001B[1;33m)\u001B[0m\u001B[1;33m\u001B[0m\u001B[1;33m\u001B[0m\u001B[0m\n\u001B[0;32m   1704\u001B[0m         \u001B[1;32melif\u001B[0m \u001B[0mmode\u001B[0m \u001B[1;33m==\u001B[0m \u001B[1;34m'arrow'\u001B[0m\u001B[1;33m:\u001B[0m\u001B[1;33m\u001B[0m\u001B[1;33m\u001B[0m\u001B[0m\n\u001B[1;32m-> 1705\u001B[1;33m             \u001B[0medges_arr\u001B[0m \u001B[1;33m=\u001B[0m \u001B[0mself\u001B[0m\u001B[1;33m.\u001B[0m\u001B[0m_table_to_arrow\u001B[0m\u001B[1;33m(\u001B[0m\u001B[0medges\u001B[0m\u001B[1;33m,\u001B[0m \u001B[0mmemoize\u001B[0m\u001B[1;33m)\u001B[0m\u001B[1;33m\u001B[0m\u001B[1;33m\u001B[0m\u001B[0m\n\u001B[0m\u001B[0;32m   1706\u001B[0m             \u001B[0mnodes_arr\u001B[0m \u001B[1;33m=\u001B[0m \u001B[0mself\u001B[0m\u001B[1;33m.\u001B[0m\u001B[0m_table_to_arrow\u001B[0m\u001B[1;33m(\u001B[0m\u001B[0mnodes\u001B[0m\u001B[1;33m,\u001B[0m \u001B[0mmemoize\u001B[0m\u001B[1;33m)\u001B[0m\u001B[1;33m\u001B[0m\u001B[1;33m\u001B[0m\u001B[0m\n\u001B[0;32m   1707\u001B[0m             \u001B[1;32mreturn\u001B[0m \u001B[0mself\u001B[0m\u001B[1;33m.\u001B[0m\u001B[0m_make_arrow_dataset\u001B[0m\u001B[1;33m(\u001B[0m\u001B[0medges\u001B[0m\u001B[1;33m=\u001B[0m\u001B[0medges_arr\u001B[0m\u001B[1;33m,\u001B[0m \u001B[0mnodes\u001B[0m\u001B[1;33m=\u001B[0m\u001B[0mnodes_arr\u001B[0m\u001B[1;33m,\u001B[0m \u001B[0mname\u001B[0m\u001B[1;33m=\u001B[0m\u001B[0mname\u001B[0m\u001B[1;33m,\u001B[0m \u001B[0mdescription\u001B[0m\u001B[1;33m=\u001B[0m\u001B[0mdescription\u001B[0m\u001B[1;33m,\u001B[0m \u001B[0mmetadata\u001B[0m\u001B[1;33m=\u001B[0m\u001B[0mmetadata\u001B[0m\u001B[1;33m)\u001B[0m\u001B[1;33m\u001B[0m\u001B[1;33m\u001B[0m\u001B[0m\n",
      "\u001B[1;32m~\\anaconda3\\lib\\site-packages\\graphistry\\PlotterBase.py\u001B[0m in \u001B[0;36m_table_to_arrow\u001B[1;34m(self, table, memoize)\u001B[0m\n\u001B[0;32m   1599\u001B[0m                 \u001B[1;32mtry\u001B[0m\u001B[1;33m:\u001B[0m\u001B[1;33m\u001B[0m\u001B[1;33m\u001B[0m\u001B[0m\n\u001B[0;32m   1600\u001B[0m                     \u001B[1;31m#https://stackoverflow.com/questions/31567401/get-the-same-hash-value-for-a-pandas-dataframe-each-time\u001B[0m\u001B[1;33m\u001B[0m\u001B[1;33m\u001B[0m\u001B[0m\n\u001B[1;32m-> 1601\u001B[1;33m                     \u001B[0mhashed\u001B[0m \u001B[1;33m=\u001B[0m \u001B[0mhashlib\u001B[0m\u001B[1;33m.\u001B[0m\u001B[0msha256\u001B[0m\u001B[1;33m(\u001B[0m\u001B[0mpd\u001B[0m\u001B[1;33m.\u001B[0m\u001B[0mutil\u001B[0m\u001B[1;33m.\u001B[0m\u001B[0mhash_pandas_object\u001B[0m\u001B[1;33m(\u001B[0m\u001B[0mtable\u001B[0m\u001B[1;33m,\u001B[0m \u001B[0mindex\u001B[0m\u001B[1;33m=\u001B[0m\u001B[1;32mTrue\u001B[0m\u001B[1;33m)\u001B[0m\u001B[1;33m.\u001B[0m\u001B[0mvalues\u001B[0m\u001B[1;33m)\u001B[0m\u001B[1;33m.\u001B[0m\u001B[0mhexdigest\u001B[0m\u001B[1;33m(\u001B[0m\u001B[1;33m)\u001B[0m\u001B[1;33m\u001B[0m\u001B[1;33m\u001B[0m\u001B[0m\n\u001B[0m\u001B[0;32m   1602\u001B[0m                 \u001B[1;32mexcept\u001B[0m \u001B[0mTypeError\u001B[0m\u001B[1;33m:\u001B[0m\u001B[1;33m\u001B[0m\u001B[1;33m\u001B[0m\u001B[0m\n\u001B[0;32m   1603\u001B[0m                     logger.warn('Failed memoization speedup attempt due to Pandas internal hash function failing. Continuing without memoization speedups.'\n",
      "\u001B[1;32m~\\anaconda3\\lib\\site-packages\\pandas\\core\\util\\hashing.py\u001B[0m in \u001B[0;36mhash_pandas_object\u001B[1;34m(obj, index, encoding, hash_key, categorize)\u001B[0m\n\u001B[0;32m    161\u001B[0m             \u001B[0m_hashes\u001B[0m \u001B[1;33m=\u001B[0m \u001B[0mitertools\u001B[0m\u001B[1;33m.\u001B[0m\u001B[0mchain\u001B[0m\u001B[1;33m(\u001B[0m\u001B[0mhashes\u001B[0m\u001B[1;33m,\u001B[0m \u001B[0mindex_hash_generator\u001B[0m\u001B[1;33m)\u001B[0m\u001B[1;33m\u001B[0m\u001B[1;33m\u001B[0m\u001B[0m\n\u001B[0;32m    162\u001B[0m             \u001B[0mhashes\u001B[0m \u001B[1;33m=\u001B[0m \u001B[1;33m(\u001B[0m\u001B[0mx\u001B[0m \u001B[1;32mfor\u001B[0m \u001B[0mx\u001B[0m \u001B[1;32min\u001B[0m \u001B[0m_hashes\u001B[0m\u001B[1;33m)\u001B[0m\u001B[1;33m\u001B[0m\u001B[1;33m\u001B[0m\u001B[0m\n\u001B[1;32m--> 163\u001B[1;33m         \u001B[0mh\u001B[0m \u001B[1;33m=\u001B[0m \u001B[0mcombine_hash_arrays\u001B[0m\u001B[1;33m(\u001B[0m\u001B[0mhashes\u001B[0m\u001B[1;33m,\u001B[0m \u001B[0mnum_items\u001B[0m\u001B[1;33m)\u001B[0m\u001B[1;33m\u001B[0m\u001B[1;33m\u001B[0m\u001B[0m\n\u001B[0m\u001B[0;32m    164\u001B[0m \u001B[1;33m\u001B[0m\u001B[0m\n\u001B[0;32m    165\u001B[0m         \u001B[0mser\u001B[0m \u001B[1;33m=\u001B[0m \u001B[0mSeries\u001B[0m\u001B[1;33m(\u001B[0m\u001B[0mh\u001B[0m\u001B[1;33m,\u001B[0m \u001B[0mindex\u001B[0m\u001B[1;33m=\u001B[0m\u001B[0mobj\u001B[0m\u001B[1;33m.\u001B[0m\u001B[0mindex\u001B[0m\u001B[1;33m,\u001B[0m \u001B[0mdtype\u001B[0m\u001B[1;33m=\u001B[0m\u001B[1;34m\"uint64\"\u001B[0m\u001B[1;33m,\u001B[0m \u001B[0mcopy\u001B[0m\u001B[1;33m=\u001B[0m\u001B[1;32mFalse\u001B[0m\u001B[1;33m)\u001B[0m\u001B[1;33m\u001B[0m\u001B[1;33m\u001B[0m\u001B[0m\n",
      "\u001B[1;32m~\\anaconda3\\lib\\site-packages\\pandas\\core\\util\\hashing.py\u001B[0m in \u001B[0;36mcombine_hash_arrays\u001B[1;34m(arrays, num_items)\u001B[0m\n\u001B[0;32m     68\u001B[0m     \u001B[0mmult\u001B[0m \u001B[1;33m=\u001B[0m \u001B[0mnp\u001B[0m\u001B[1;33m.\u001B[0m\u001B[0muint64\u001B[0m\u001B[1;33m(\u001B[0m\u001B[1;36m1000003\u001B[0m\u001B[1;33m)\u001B[0m\u001B[1;33m\u001B[0m\u001B[1;33m\u001B[0m\u001B[0m\n\u001B[0;32m     69\u001B[0m     \u001B[0mout\u001B[0m \u001B[1;33m=\u001B[0m \u001B[0mnp\u001B[0m\u001B[1;33m.\u001B[0m\u001B[0mzeros_like\u001B[0m\u001B[1;33m(\u001B[0m\u001B[0mfirst\u001B[0m\u001B[1;33m)\u001B[0m \u001B[1;33m+\u001B[0m \u001B[0mnp\u001B[0m\u001B[1;33m.\u001B[0m\u001B[0muint64\u001B[0m\u001B[1;33m(\u001B[0m\u001B[1;36m0x345678\u001B[0m\u001B[1;33m)\u001B[0m\u001B[1;33m\u001B[0m\u001B[1;33m\u001B[0m\u001B[0m\n\u001B[1;32m---> 70\u001B[1;33m     \u001B[1;32mfor\u001B[0m \u001B[0mi\u001B[0m\u001B[1;33m,\u001B[0m \u001B[0ma\u001B[0m \u001B[1;32min\u001B[0m \u001B[0menumerate\u001B[0m\u001B[1;33m(\u001B[0m\u001B[0marrays\u001B[0m\u001B[1;33m)\u001B[0m\u001B[1;33m:\u001B[0m\u001B[1;33m\u001B[0m\u001B[1;33m\u001B[0m\u001B[0m\n\u001B[0m\u001B[0;32m     71\u001B[0m         \u001B[0minverse_i\u001B[0m \u001B[1;33m=\u001B[0m \u001B[0mnum_items\u001B[0m \u001B[1;33m-\u001B[0m \u001B[0mi\u001B[0m\u001B[1;33m\u001B[0m\u001B[1;33m\u001B[0m\u001B[0m\n\u001B[0;32m     72\u001B[0m         \u001B[0mout\u001B[0m \u001B[1;33m^=\u001B[0m \u001B[0ma\u001B[0m\u001B[1;33m\u001B[0m\u001B[1;33m\u001B[0m\u001B[0m\n",
      "\u001B[1;32m~\\anaconda3\\lib\\site-packages\\pandas\\core\\util\\hashing.py\u001B[0m in \u001B[0;36m<genexpr>\u001B[1;34m(.0)\u001B[0m\n\u001B[0;32m    160\u001B[0m             \u001B[1;31m# keep `hashes` specifically a generator to keep mypy happy\u001B[0m\u001B[1;33m\u001B[0m\u001B[1;33m\u001B[0m\u001B[0m\n\u001B[0;32m    161\u001B[0m             \u001B[0m_hashes\u001B[0m \u001B[1;33m=\u001B[0m \u001B[0mitertools\u001B[0m\u001B[1;33m.\u001B[0m\u001B[0mchain\u001B[0m\u001B[1;33m(\u001B[0m\u001B[0mhashes\u001B[0m\u001B[1;33m,\u001B[0m \u001B[0mindex_hash_generator\u001B[0m\u001B[1;33m)\u001B[0m\u001B[1;33m\u001B[0m\u001B[1;33m\u001B[0m\u001B[0m\n\u001B[1;32m--> 162\u001B[1;33m             \u001B[0mhashes\u001B[0m \u001B[1;33m=\u001B[0m \u001B[1;33m(\u001B[0m\u001B[0mx\u001B[0m \u001B[1;32mfor\u001B[0m \u001B[0mx\u001B[0m \u001B[1;32min\u001B[0m \u001B[0m_hashes\u001B[0m\u001B[1;33m)\u001B[0m\u001B[1;33m\u001B[0m\u001B[1;33m\u001B[0m\u001B[0m\n\u001B[0m\u001B[0;32m    163\u001B[0m         \u001B[0mh\u001B[0m \u001B[1;33m=\u001B[0m \u001B[0mcombine_hash_arrays\u001B[0m\u001B[1;33m(\u001B[0m\u001B[0mhashes\u001B[0m\u001B[1;33m,\u001B[0m \u001B[0mnum_items\u001B[0m\u001B[1;33m)\u001B[0m\u001B[1;33m\u001B[0m\u001B[1;33m\u001B[0m\u001B[0m\n\u001B[0;32m    164\u001B[0m \u001B[1;33m\u001B[0m\u001B[0m\n",
      "\u001B[1;32m~\\anaconda3\\lib\\site-packages\\pandas\\core\\util\\hashing.py\u001B[0m in \u001B[0;36m<genexpr>\u001B[1;34m(.0)\u001B[0m\n\u001B[0;32m    141\u001B[0m     \u001B[1;32melif\u001B[0m \u001B[0misinstance\u001B[0m\u001B[1;33m(\u001B[0m\u001B[0mobj\u001B[0m\u001B[1;33m,\u001B[0m \u001B[0mABCDataFrame\u001B[0m\u001B[1;33m)\u001B[0m\u001B[1;33m:\u001B[0m\u001B[1;33m\u001B[0m\u001B[1;33m\u001B[0m\u001B[0m\n\u001B[0;32m    142\u001B[0m         hashes = (\n\u001B[1;32m--> 143\u001B[1;33m             \u001B[0mhash_array\u001B[0m\u001B[1;33m(\u001B[0m\u001B[0mseries\u001B[0m\u001B[1;33m.\u001B[0m\u001B[0m_values\u001B[0m\u001B[1;33m,\u001B[0m \u001B[0mencoding\u001B[0m\u001B[1;33m,\u001B[0m \u001B[0mhash_key\u001B[0m\u001B[1;33m,\u001B[0m \u001B[0mcategorize\u001B[0m\u001B[1;33m)\u001B[0m\u001B[1;33m\u001B[0m\u001B[1;33m\u001B[0m\u001B[0m\n\u001B[0m\u001B[0;32m    144\u001B[0m             \u001B[1;32mfor\u001B[0m \u001B[0m_\u001B[0m\u001B[1;33m,\u001B[0m \u001B[0mseries\u001B[0m \u001B[1;32min\u001B[0m \u001B[0mobj\u001B[0m\u001B[1;33m.\u001B[0m\u001B[0mitems\u001B[0m\u001B[1;33m(\u001B[0m\u001B[1;33m)\u001B[0m\u001B[1;33m\u001B[0m\u001B[1;33m\u001B[0m\u001B[0m\n\u001B[0;32m    145\u001B[0m         )\n",
      "\u001B[1;32m~\\anaconda3\\lib\\site-packages\\pandas\\core\\util\\hashing.py\u001B[0m in \u001B[0;36mhash_array\u001B[1;34m(vals, encoding, hash_key, categorize)\u001B[0m\n\u001B[0;32m    293\u001B[0m         \u001B[0mvals\u001B[0m\u001B[1;33m,\u001B[0m \u001B[0m_\u001B[0m \u001B[1;33m=\u001B[0m \u001B[0mvals\u001B[0m\u001B[1;33m.\u001B[0m\u001B[0m_values_for_factorize\u001B[0m\u001B[1;33m(\u001B[0m\u001B[1;33m)\u001B[0m\u001B[1;33m\u001B[0m\u001B[1;33m\u001B[0m\u001B[0m\n\u001B[0;32m    294\u001B[0m \u001B[1;33m\u001B[0m\u001B[0m\n\u001B[1;32m--> 295\u001B[1;33m     \u001B[1;32mreturn\u001B[0m \u001B[0m_hash_ndarray\u001B[0m\u001B[1;33m(\u001B[0m\u001B[0mvals\u001B[0m\u001B[1;33m,\u001B[0m \u001B[0mencoding\u001B[0m\u001B[1;33m,\u001B[0m \u001B[0mhash_key\u001B[0m\u001B[1;33m,\u001B[0m \u001B[0mcategorize\u001B[0m\u001B[1;33m)\u001B[0m\u001B[1;33m\u001B[0m\u001B[1;33m\u001B[0m\u001B[0m\n\u001B[0m\u001B[0;32m    296\u001B[0m \u001B[1;33m\u001B[0m\u001B[0m\n\u001B[0;32m    297\u001B[0m \u001B[1;33m\u001B[0m\u001B[0m\n",
      "\u001B[1;32m~\\anaconda3\\lib\\site-packages\\pandas\\core\\util\\hashing.py\u001B[0m in \u001B[0;36m_hash_ndarray\u001B[1;34m(vals, encoding, hash_key, categorize)\u001B[0m\n\u001B[0;32m    333\u001B[0m             \u001B[0mcodes\u001B[0m\u001B[1;33m,\u001B[0m \u001B[0mcategories\u001B[0m \u001B[1;33m=\u001B[0m \u001B[0mfactorize\u001B[0m\u001B[1;33m(\u001B[0m\u001B[0mvals\u001B[0m\u001B[1;33m,\u001B[0m \u001B[0msort\u001B[0m\u001B[1;33m=\u001B[0m\u001B[1;32mFalse\u001B[0m\u001B[1;33m)\u001B[0m\u001B[1;33m\u001B[0m\u001B[1;33m\u001B[0m\u001B[0m\n\u001B[0;32m    334\u001B[0m             \u001B[0mcat\u001B[0m \u001B[1;33m=\u001B[0m \u001B[0mCategorical\u001B[0m\u001B[1;33m(\u001B[0m\u001B[0mcodes\u001B[0m\u001B[1;33m,\u001B[0m \u001B[0mIndex\u001B[0m\u001B[1;33m(\u001B[0m\u001B[0mcategories\u001B[0m\u001B[1;33m)\u001B[0m\u001B[1;33m,\u001B[0m \u001B[0mordered\u001B[0m\u001B[1;33m=\u001B[0m\u001B[1;32mFalse\u001B[0m\u001B[1;33m,\u001B[0m \u001B[0mfastpath\u001B[0m\u001B[1;33m=\u001B[0m\u001B[1;32mTrue\u001B[0m\u001B[1;33m)\u001B[0m\u001B[1;33m\u001B[0m\u001B[1;33m\u001B[0m\u001B[0m\n\u001B[1;32m--> 335\u001B[1;33m             \u001B[1;32mreturn\u001B[0m \u001B[0m_hash_categorical\u001B[0m\u001B[1;33m(\u001B[0m\u001B[0mcat\u001B[0m\u001B[1;33m,\u001B[0m \u001B[0mencoding\u001B[0m\u001B[1;33m,\u001B[0m \u001B[0mhash_key\u001B[0m\u001B[1;33m)\u001B[0m\u001B[1;33m\u001B[0m\u001B[1;33m\u001B[0m\u001B[0m\n\u001B[0m\u001B[0;32m    336\u001B[0m \u001B[1;33m\u001B[0m\u001B[0m\n\u001B[0;32m    337\u001B[0m         \u001B[1;32mtry\u001B[0m\u001B[1;33m:\u001B[0m\u001B[1;33m\u001B[0m\u001B[1;33m\u001B[0m\u001B[0m\n",
      "\u001B[1;32m~\\anaconda3\\lib\\site-packages\\pandas\\core\\util\\hashing.py\u001B[0m in \u001B[0;36m_hash_categorical\u001B[1;34m(cat, encoding, hash_key)\u001B[0m\n\u001B[0;32m    233\u001B[0m     \u001B[1;31m# Convert ExtensionArrays to ndarrays\u001B[0m\u001B[1;33m\u001B[0m\u001B[1;33m\u001B[0m\u001B[0m\n\u001B[0;32m    234\u001B[0m     \u001B[0mvalues\u001B[0m \u001B[1;33m=\u001B[0m \u001B[0mnp\u001B[0m\u001B[1;33m.\u001B[0m\u001B[0masarray\u001B[0m\u001B[1;33m(\u001B[0m\u001B[0mcat\u001B[0m\u001B[1;33m.\u001B[0m\u001B[0mcategories\u001B[0m\u001B[1;33m.\u001B[0m\u001B[0m_values\u001B[0m\u001B[1;33m)\u001B[0m\u001B[1;33m\u001B[0m\u001B[1;33m\u001B[0m\u001B[0m\n\u001B[1;32m--> 235\u001B[1;33m     \u001B[0mhashed\u001B[0m \u001B[1;33m=\u001B[0m \u001B[0mhash_array\u001B[0m\u001B[1;33m(\u001B[0m\u001B[0mvalues\u001B[0m\u001B[1;33m,\u001B[0m \u001B[0mencoding\u001B[0m\u001B[1;33m,\u001B[0m \u001B[0mhash_key\u001B[0m\u001B[1;33m,\u001B[0m \u001B[0mcategorize\u001B[0m\u001B[1;33m=\u001B[0m\u001B[1;32mFalse\u001B[0m\u001B[1;33m)\u001B[0m\u001B[1;33m\u001B[0m\u001B[1;33m\u001B[0m\u001B[0m\n\u001B[0m\u001B[0;32m    236\u001B[0m \u001B[1;33m\u001B[0m\u001B[0m\n\u001B[0;32m    237\u001B[0m     \u001B[1;31m# we have uint64, as we don't directly support missing values\u001B[0m\u001B[1;33m\u001B[0m\u001B[1;33m\u001B[0m\u001B[0m\n",
      "\u001B[1;32m~\\anaconda3\\lib\\site-packages\\pandas\\core\\util\\hashing.py\u001B[0m in \u001B[0;36mhash_array\u001B[1;34m(vals, encoding, hash_key, categorize)\u001B[0m\n\u001B[0;32m    293\u001B[0m         \u001B[0mvals\u001B[0m\u001B[1;33m,\u001B[0m \u001B[0m_\u001B[0m \u001B[1;33m=\u001B[0m \u001B[0mvals\u001B[0m\u001B[1;33m.\u001B[0m\u001B[0m_values_for_factorize\u001B[0m\u001B[1;33m(\u001B[0m\u001B[1;33m)\u001B[0m\u001B[1;33m\u001B[0m\u001B[1;33m\u001B[0m\u001B[0m\n\u001B[0;32m    294\u001B[0m \u001B[1;33m\u001B[0m\u001B[0m\n\u001B[1;32m--> 295\u001B[1;33m     \u001B[1;32mreturn\u001B[0m \u001B[0m_hash_ndarray\u001B[0m\u001B[1;33m(\u001B[0m\u001B[0mvals\u001B[0m\u001B[1;33m,\u001B[0m \u001B[0mencoding\u001B[0m\u001B[1;33m,\u001B[0m \u001B[0mhash_key\u001B[0m\u001B[1;33m,\u001B[0m \u001B[0mcategorize\u001B[0m\u001B[1;33m)\u001B[0m\u001B[1;33m\u001B[0m\u001B[1;33m\u001B[0m\u001B[0m\n\u001B[0m\u001B[0;32m    296\u001B[0m \u001B[1;33m\u001B[0m\u001B[0m\n\u001B[0;32m    297\u001B[0m \u001B[1;33m\u001B[0m\u001B[0m\n",
      "\u001B[1;32m~\\anaconda3\\lib\\site-packages\\pandas\\core\\util\\hashing.py\u001B[0m in \u001B[0;36m_hash_ndarray\u001B[1;34m(vals, encoding, hash_key, categorize)\u001B[0m\n\u001B[0;32m    336\u001B[0m \u001B[1;33m\u001B[0m\u001B[0m\n\u001B[0;32m    337\u001B[0m         \u001B[1;32mtry\u001B[0m\u001B[1;33m:\u001B[0m\u001B[1;33m\u001B[0m\u001B[1;33m\u001B[0m\u001B[0m\n\u001B[1;32m--> 338\u001B[1;33m             \u001B[0mvals\u001B[0m \u001B[1;33m=\u001B[0m \u001B[0mhash_object_array\u001B[0m\u001B[1;33m(\u001B[0m\u001B[0mvals\u001B[0m\u001B[1;33m,\u001B[0m \u001B[0mhash_key\u001B[0m\u001B[1;33m,\u001B[0m \u001B[0mencoding\u001B[0m\u001B[1;33m)\u001B[0m\u001B[1;33m\u001B[0m\u001B[1;33m\u001B[0m\u001B[0m\n\u001B[0m\u001B[0;32m    339\u001B[0m         \u001B[1;32mexcept\u001B[0m \u001B[0mTypeError\u001B[0m\u001B[1;33m:\u001B[0m\u001B[1;33m\u001B[0m\u001B[1;33m\u001B[0m\u001B[0m\n\u001B[0;32m    340\u001B[0m             \u001B[1;31m# we have mixed types\u001B[0m\u001B[1;33m\u001B[0m\u001B[1;33m\u001B[0m\u001B[0m\n",
      "\u001B[1;32m~\\anaconda3\\lib\\site-packages\\pandas\\_libs\\hashing.pyx\u001B[0m in \u001B[0;36mpandas._libs.hashing.hash_object_array\u001B[1;34m()\u001B[0m\n",
      "\u001B[1;32m~\\anaconda3\\lib\\site-packages\\interchange\\time.py\u001B[0m in \u001B[0;36m__format__\u001B[1;34m(self, format_spec)\u001B[0m\n\u001B[0;32m    829\u001B[0m \u001B[1;33m\u001B[0m\u001B[0m\n\u001B[0;32m    830\u001B[0m     \u001B[1;32mdef\u001B[0m \u001B[0m__format__\u001B[0m\u001B[1;33m(\u001B[0m\u001B[0mself\u001B[0m\u001B[1;33m,\u001B[0m \u001B[0mformat_spec\u001B[0m\u001B[1;33m)\u001B[0m\u001B[1;33m:\u001B[0m\u001B[1;33m\u001B[0m\u001B[1;33m\u001B[0m\u001B[0m\n\u001B[1;32m--> 831\u001B[1;33m         \u001B[1;32mraise\u001B[0m \u001B[0mNotImplementedError\u001B[0m\u001B[1;33m(\u001B[0m\u001B[1;33m)\u001B[0m\u001B[1;33m\u001B[0m\u001B[1;33m\u001B[0m\u001B[0m\n\u001B[0m\u001B[0;32m    832\u001B[0m \u001B[1;33m\u001B[0m\u001B[0m\n\u001B[0;32m    833\u001B[0m     \u001B[0mstrftime\u001B[0m \u001B[1;33m=\u001B[0m \u001B[0m__format__\u001B[0m\u001B[1;33m\u001B[0m\u001B[1;33m\u001B[0m\u001B[0m\n",
      "\u001B[1;31mNotImplementedError\u001B[0m: "
     ]
    }
   ],
   "source": [
    "g = graphistry.bind()\n",
    "g = g.bind(source=\"id1\", destination=\"id2\", node='id').nodes(q_for_date_data).edges(q_for_date_edges)\n",
    "g.plot()\n",
    "\"\"\"\n",
    "ig = g.pandas2igraph(q_for_date_edges)\n",
    "g.plot(ig)\"\"\"\n",
    "\n",
    "# g.plot()"
   ]
  },
  {
   "cell_type": "code",
   "execution_count": 215,
   "id": "d3207ef8",
   "metadata": {},
   "outputs": [],
   "source": [
    "?g"
   ]
  },
  {
   "cell_type": "code",
   "execution_count": 211,
   "id": "d63143ca",
   "metadata": {},
   "outputs": [
    {
     "ename": "NotImplementedError",
     "evalue": "",
     "output_type": "error",
     "traceback": [
      "\u001B[1;31m---------------------------------------------------------------------------\u001B[0m",
      "\u001B[1;31mNotImplementedError\u001B[0m                       Traceback (most recent call last)",
      "\u001B[1;32m~\\AppData\\Local\\Temp/ipykernel_16280/994945333.py\u001B[0m in \u001B[0;36m<module>\u001B[1;34m\u001B[0m\n\u001B[0;32m      1\u001B[0m \u001B[0mg\u001B[0m \u001B[1;33m=\u001B[0m \u001B[0mgraphistry\u001B[0m\u001B[1;33m.\u001B[0m\u001B[0mbind\u001B[0m\u001B[1;33m(\u001B[0m\u001B[1;33m)\u001B[0m\u001B[1;33m\u001B[0m\u001B[1;33m\u001B[0m\u001B[0m\n\u001B[0;32m      2\u001B[0m \u001B[0mg\u001B[0m \u001B[1;33m=\u001B[0m \u001B[0mg\u001B[0m\u001B[1;33m.\u001B[0m\u001B[0mbind\u001B[0m\u001B[1;33m(\u001B[0m\u001B[0msource\u001B[0m\u001B[1;33m=\u001B[0m\u001B[1;34m\"id1\"\u001B[0m\u001B[1;33m,\u001B[0m \u001B[0mdestination\u001B[0m\u001B[1;33m=\u001B[0m\u001B[1;34m\"id2\"\u001B[0m\u001B[1;33m)\u001B[0m\u001B[1;33m.\u001B[0m\u001B[0medges\u001B[0m\u001B[1;33m(\u001B[0m\u001B[0mq_for_date_edges\u001B[0m\u001B[1;33m)\u001B[0m\u001B[1;33m\u001B[0m\u001B[1;33m\u001B[0m\u001B[0m\n\u001B[1;32m----> 3\u001B[1;33m \u001B[0mg\u001B[0m\u001B[1;33m.\u001B[0m\u001B[0mplot\u001B[0m\u001B[1;33m(\u001B[0m\u001B[1;33m)\u001B[0m\u001B[1;33m\u001B[0m\u001B[1;33m\u001B[0m\u001B[0m\n\u001B[0m",
      "\u001B[1;32m~\\anaconda3\\lib\\site-packages\\graphistry\\PlotterBase.py\u001B[0m in \u001B[0;36mplot\u001B[1;34m(self, graph, nodes, name, description, render, skip_upload, as_files, memoize, extra_html, override_html_style)\u001B[0m\n\u001B[0;32m   1231\u001B[0m         \u001B[1;32melif\u001B[0m \u001B[0mapi_version\u001B[0m \u001B[1;33m==\u001B[0m \u001B[1;36m3\u001B[0m\u001B[1;33m:\u001B[0m\u001B[1;33m\u001B[0m\u001B[1;33m\u001B[0m\u001B[0m\n\u001B[0;32m   1232\u001B[0m             \u001B[0mPyGraphistry\u001B[0m\u001B[1;33m.\u001B[0m\u001B[0mrefresh\u001B[0m\u001B[1;33m(\u001B[0m\u001B[1;33m)\u001B[0m\u001B[1;33m\u001B[0m\u001B[1;33m\u001B[0m\u001B[0m\n\u001B[1;32m-> 1233\u001B[1;33m             \u001B[0mdataset\u001B[0m \u001B[1;33m=\u001B[0m \u001B[0mself\u001B[0m\u001B[1;33m.\u001B[0m\u001B[0m_plot_dispatch\u001B[0m\u001B[1;33m(\u001B[0m\u001B[0mg\u001B[0m\u001B[1;33m,\u001B[0m \u001B[0mn\u001B[0m\u001B[1;33m,\u001B[0m \u001B[0mname\u001B[0m\u001B[1;33m,\u001B[0m \u001B[0mdescription\u001B[0m\u001B[1;33m,\u001B[0m \u001B[1;34m'arrow'\u001B[0m\u001B[1;33m,\u001B[0m \u001B[0mself\u001B[0m\u001B[1;33m.\u001B[0m\u001B[0m_style\u001B[0m\u001B[1;33m,\u001B[0m \u001B[0mmemoize\u001B[0m\u001B[1;33m)\u001B[0m\u001B[1;33m\u001B[0m\u001B[1;33m\u001B[0m\u001B[0m\n\u001B[0m\u001B[0;32m   1234\u001B[0m             \u001B[1;32mif\u001B[0m \u001B[0mskip_upload\u001B[0m\u001B[1;33m:\u001B[0m\u001B[1;33m\u001B[0m\u001B[1;33m\u001B[0m\u001B[0m\n\u001B[0;32m   1235\u001B[0m                 \u001B[1;32mreturn\u001B[0m \u001B[0mdataset\u001B[0m\u001B[1;33m\u001B[0m\u001B[1;33m\u001B[0m\u001B[0m\n",
      "\u001B[1;32m~\\anaconda3\\lib\\site-packages\\graphistry\\PlotterBase.py\u001B[0m in \u001B[0;36m_plot_dispatch\u001B[1;34m(self, graph, nodes, name, description, mode, metadata, memoize)\u001B[0m\n\u001B[0;32m   1398\u001B[0m                 \u001B[1;32mor\u001B[0m \u001B[1;33m(\u001B[0m \u001B[1;32mnot\u001B[0m \u001B[1;33m(\u001B[0m\u001B[0mmaybe_dask_dataframe\u001B[0m \u001B[1;32mis\u001B[0m \u001B[1;32mNone\u001B[0m\u001B[1;33m)\u001B[0m \u001B[1;32mand\u001B[0m \u001B[0misinstance\u001B[0m\u001B[1;33m(\u001B[0m\u001B[0mgraph\u001B[0m\u001B[1;33m,\u001B[0m \u001B[0mmaybe_dask_dataframe\u001B[0m\u001B[1;33m.\u001B[0m\u001B[0mDataFrame\u001B[0m\u001B[1;33m)\u001B[0m \u001B[1;33m)\u001B[0m\u001B[0;31m \u001B[0m\u001B[0;31m\\\u001B[0m\u001B[1;33m\u001B[0m\u001B[1;33m\u001B[0m\u001B[0m\n\u001B[0;32m   1399\u001B[0m                 \u001B[1;32mor\u001B[0m \u001B[1;33m(\u001B[0m \u001B[1;32mnot\u001B[0m \u001B[1;33m(\u001B[0m\u001B[0mmaybe_spark\u001B[0m \u001B[1;32mis\u001B[0m \u001B[1;32mNone\u001B[0m\u001B[1;33m)\u001B[0m \u001B[1;32mand\u001B[0m \u001B[0misinstance\u001B[0m\u001B[1;33m(\u001B[0m\u001B[0mgraph\u001B[0m\u001B[1;33m,\u001B[0m \u001B[0mpyspark\u001B[0m\u001B[1;33m.\u001B[0m\u001B[0msql\u001B[0m\u001B[1;33m.\u001B[0m\u001B[0mdataframe\u001B[0m\u001B[1;33m.\u001B[0m\u001B[0mDataFrame\u001B[0m\u001B[1;33m)\u001B[0m \u001B[1;33m)\u001B[0m\u001B[1;33m:\u001B[0m\u001B[1;33m\u001B[0m\u001B[1;33m\u001B[0m\u001B[0m\n\u001B[1;32m-> 1400\u001B[1;33m             \u001B[1;32mreturn\u001B[0m \u001B[0mg\u001B[0m\u001B[1;33m.\u001B[0m\u001B[0m_make_dataset\u001B[0m\u001B[1;33m(\u001B[0m\u001B[0mgraph\u001B[0m\u001B[1;33m,\u001B[0m \u001B[0mnodes\u001B[0m\u001B[1;33m,\u001B[0m \u001B[0mname\u001B[0m\u001B[1;33m,\u001B[0m \u001B[0mdescription\u001B[0m\u001B[1;33m,\u001B[0m \u001B[0mmode\u001B[0m\u001B[1;33m,\u001B[0m \u001B[0mmetadata\u001B[0m\u001B[1;33m,\u001B[0m \u001B[0mmemoize\u001B[0m\u001B[1;33m)\u001B[0m\u001B[1;33m\u001B[0m\u001B[1;33m\u001B[0m\u001B[0m\n\u001B[0m\u001B[0;32m   1401\u001B[0m \u001B[1;33m\u001B[0m\u001B[0m\n\u001B[0;32m   1402\u001B[0m         \u001B[1;32mtry\u001B[0m\u001B[1;33m:\u001B[0m\u001B[1;33m\u001B[0m\u001B[1;33m\u001B[0m\u001B[0m\n",
      "\u001B[1;32m~\\anaconda3\\lib\\site-packages\\graphistry\\PlotterBase.py\u001B[0m in \u001B[0;36m_make_dataset\u001B[1;34m(self, edges, nodes, name, description, mode, metadata, memoize)\u001B[0m\n\u001B[0;32m   1703\u001B[0m             \u001B[1;32mreturn\u001B[0m \u001B[0mself\u001B[0m\u001B[1;33m.\u001B[0m\u001B[0m_make_vgraph_dataset\u001B[0m\u001B[1;33m(\u001B[0m\u001B[0medges_df\u001B[0m\u001B[1;33m,\u001B[0m \u001B[0mnodes_df\u001B[0m\u001B[1;33m,\u001B[0m \u001B[0mname\u001B[0m\u001B[1;33m)\u001B[0m\u001B[1;33m\u001B[0m\u001B[1;33m\u001B[0m\u001B[0m\n\u001B[0;32m   1704\u001B[0m         \u001B[1;32melif\u001B[0m \u001B[0mmode\u001B[0m \u001B[1;33m==\u001B[0m \u001B[1;34m'arrow'\u001B[0m\u001B[1;33m:\u001B[0m\u001B[1;33m\u001B[0m\u001B[1;33m\u001B[0m\u001B[0m\n\u001B[1;32m-> 1705\u001B[1;33m             \u001B[0medges_arr\u001B[0m \u001B[1;33m=\u001B[0m \u001B[0mself\u001B[0m\u001B[1;33m.\u001B[0m\u001B[0m_table_to_arrow\u001B[0m\u001B[1;33m(\u001B[0m\u001B[0medges\u001B[0m\u001B[1;33m,\u001B[0m \u001B[0mmemoize\u001B[0m\u001B[1;33m)\u001B[0m\u001B[1;33m\u001B[0m\u001B[1;33m\u001B[0m\u001B[0m\n\u001B[0m\u001B[0;32m   1706\u001B[0m             \u001B[0mnodes_arr\u001B[0m \u001B[1;33m=\u001B[0m \u001B[0mself\u001B[0m\u001B[1;33m.\u001B[0m\u001B[0m_table_to_arrow\u001B[0m\u001B[1;33m(\u001B[0m\u001B[0mnodes\u001B[0m\u001B[1;33m,\u001B[0m \u001B[0mmemoize\u001B[0m\u001B[1;33m)\u001B[0m\u001B[1;33m\u001B[0m\u001B[1;33m\u001B[0m\u001B[0m\n\u001B[0;32m   1707\u001B[0m             \u001B[1;32mreturn\u001B[0m \u001B[0mself\u001B[0m\u001B[1;33m.\u001B[0m\u001B[0m_make_arrow_dataset\u001B[0m\u001B[1;33m(\u001B[0m\u001B[0medges\u001B[0m\u001B[1;33m=\u001B[0m\u001B[0medges_arr\u001B[0m\u001B[1;33m,\u001B[0m \u001B[0mnodes\u001B[0m\u001B[1;33m=\u001B[0m\u001B[0mnodes_arr\u001B[0m\u001B[1;33m,\u001B[0m \u001B[0mname\u001B[0m\u001B[1;33m=\u001B[0m\u001B[0mname\u001B[0m\u001B[1;33m,\u001B[0m \u001B[0mdescription\u001B[0m\u001B[1;33m=\u001B[0m\u001B[0mdescription\u001B[0m\u001B[1;33m,\u001B[0m \u001B[0mmetadata\u001B[0m\u001B[1;33m=\u001B[0m\u001B[0mmetadata\u001B[0m\u001B[1;33m)\u001B[0m\u001B[1;33m\u001B[0m\u001B[1;33m\u001B[0m\u001B[0m\n",
      "\u001B[1;32m~\\anaconda3\\lib\\site-packages\\graphistry\\PlotterBase.py\u001B[0m in \u001B[0;36m_table_to_arrow\u001B[1;34m(self, table, memoize)\u001B[0m\n\u001B[0;32m   1599\u001B[0m                 \u001B[1;32mtry\u001B[0m\u001B[1;33m:\u001B[0m\u001B[1;33m\u001B[0m\u001B[1;33m\u001B[0m\u001B[0m\n\u001B[0;32m   1600\u001B[0m                     \u001B[1;31m#https://stackoverflow.com/questions/31567401/get-the-same-hash-value-for-a-pandas-dataframe-each-time\u001B[0m\u001B[1;33m\u001B[0m\u001B[1;33m\u001B[0m\u001B[0m\n\u001B[1;32m-> 1601\u001B[1;33m                     \u001B[0mhashed\u001B[0m \u001B[1;33m=\u001B[0m \u001B[0mhashlib\u001B[0m\u001B[1;33m.\u001B[0m\u001B[0msha256\u001B[0m\u001B[1;33m(\u001B[0m\u001B[0mpd\u001B[0m\u001B[1;33m.\u001B[0m\u001B[0mutil\u001B[0m\u001B[1;33m.\u001B[0m\u001B[0mhash_pandas_object\u001B[0m\u001B[1;33m(\u001B[0m\u001B[0mtable\u001B[0m\u001B[1;33m,\u001B[0m \u001B[0mindex\u001B[0m\u001B[1;33m=\u001B[0m\u001B[1;32mTrue\u001B[0m\u001B[1;33m)\u001B[0m\u001B[1;33m.\u001B[0m\u001B[0mvalues\u001B[0m\u001B[1;33m)\u001B[0m\u001B[1;33m.\u001B[0m\u001B[0mhexdigest\u001B[0m\u001B[1;33m(\u001B[0m\u001B[1;33m)\u001B[0m\u001B[1;33m\u001B[0m\u001B[1;33m\u001B[0m\u001B[0m\n\u001B[0m\u001B[0;32m   1602\u001B[0m                 \u001B[1;32mexcept\u001B[0m \u001B[0mTypeError\u001B[0m\u001B[1;33m:\u001B[0m\u001B[1;33m\u001B[0m\u001B[1;33m\u001B[0m\u001B[0m\n\u001B[0;32m   1603\u001B[0m                     logger.warn('Failed memoization speedup attempt due to Pandas internal hash function failing. Continuing without memoization speedups.'\n",
      "\u001B[1;32m~\\anaconda3\\lib\\site-packages\\pandas\\core\\util\\hashing.py\u001B[0m in \u001B[0;36mhash_pandas_object\u001B[1;34m(obj, index, encoding, hash_key, categorize)\u001B[0m\n\u001B[0;32m    161\u001B[0m             \u001B[0m_hashes\u001B[0m \u001B[1;33m=\u001B[0m \u001B[0mitertools\u001B[0m\u001B[1;33m.\u001B[0m\u001B[0mchain\u001B[0m\u001B[1;33m(\u001B[0m\u001B[0mhashes\u001B[0m\u001B[1;33m,\u001B[0m \u001B[0mindex_hash_generator\u001B[0m\u001B[1;33m)\u001B[0m\u001B[1;33m\u001B[0m\u001B[1;33m\u001B[0m\u001B[0m\n\u001B[0;32m    162\u001B[0m             \u001B[0mhashes\u001B[0m \u001B[1;33m=\u001B[0m \u001B[1;33m(\u001B[0m\u001B[0mx\u001B[0m \u001B[1;32mfor\u001B[0m \u001B[0mx\u001B[0m \u001B[1;32min\u001B[0m \u001B[0m_hashes\u001B[0m\u001B[1;33m)\u001B[0m\u001B[1;33m\u001B[0m\u001B[1;33m\u001B[0m\u001B[0m\n\u001B[1;32m--> 163\u001B[1;33m         \u001B[0mh\u001B[0m \u001B[1;33m=\u001B[0m \u001B[0mcombine_hash_arrays\u001B[0m\u001B[1;33m(\u001B[0m\u001B[0mhashes\u001B[0m\u001B[1;33m,\u001B[0m \u001B[0mnum_items\u001B[0m\u001B[1;33m)\u001B[0m\u001B[1;33m\u001B[0m\u001B[1;33m\u001B[0m\u001B[0m\n\u001B[0m\u001B[0;32m    164\u001B[0m \u001B[1;33m\u001B[0m\u001B[0m\n\u001B[0;32m    165\u001B[0m         \u001B[0mser\u001B[0m \u001B[1;33m=\u001B[0m \u001B[0mSeries\u001B[0m\u001B[1;33m(\u001B[0m\u001B[0mh\u001B[0m\u001B[1;33m,\u001B[0m \u001B[0mindex\u001B[0m\u001B[1;33m=\u001B[0m\u001B[0mobj\u001B[0m\u001B[1;33m.\u001B[0m\u001B[0mindex\u001B[0m\u001B[1;33m,\u001B[0m \u001B[0mdtype\u001B[0m\u001B[1;33m=\u001B[0m\u001B[1;34m\"uint64\"\u001B[0m\u001B[1;33m,\u001B[0m \u001B[0mcopy\u001B[0m\u001B[1;33m=\u001B[0m\u001B[1;32mFalse\u001B[0m\u001B[1;33m)\u001B[0m\u001B[1;33m\u001B[0m\u001B[1;33m\u001B[0m\u001B[0m\n",
      "\u001B[1;32m~\\anaconda3\\lib\\site-packages\\pandas\\core\\util\\hashing.py\u001B[0m in \u001B[0;36mcombine_hash_arrays\u001B[1;34m(arrays, num_items)\u001B[0m\n\u001B[0;32m     68\u001B[0m     \u001B[0mmult\u001B[0m \u001B[1;33m=\u001B[0m \u001B[0mnp\u001B[0m\u001B[1;33m.\u001B[0m\u001B[0muint64\u001B[0m\u001B[1;33m(\u001B[0m\u001B[1;36m1000003\u001B[0m\u001B[1;33m)\u001B[0m\u001B[1;33m\u001B[0m\u001B[1;33m\u001B[0m\u001B[0m\n\u001B[0;32m     69\u001B[0m     \u001B[0mout\u001B[0m \u001B[1;33m=\u001B[0m \u001B[0mnp\u001B[0m\u001B[1;33m.\u001B[0m\u001B[0mzeros_like\u001B[0m\u001B[1;33m(\u001B[0m\u001B[0mfirst\u001B[0m\u001B[1;33m)\u001B[0m \u001B[1;33m+\u001B[0m \u001B[0mnp\u001B[0m\u001B[1;33m.\u001B[0m\u001B[0muint64\u001B[0m\u001B[1;33m(\u001B[0m\u001B[1;36m0x345678\u001B[0m\u001B[1;33m)\u001B[0m\u001B[1;33m\u001B[0m\u001B[1;33m\u001B[0m\u001B[0m\n\u001B[1;32m---> 70\u001B[1;33m     \u001B[1;32mfor\u001B[0m \u001B[0mi\u001B[0m\u001B[1;33m,\u001B[0m \u001B[0ma\u001B[0m \u001B[1;32min\u001B[0m \u001B[0menumerate\u001B[0m\u001B[1;33m(\u001B[0m\u001B[0marrays\u001B[0m\u001B[1;33m)\u001B[0m\u001B[1;33m:\u001B[0m\u001B[1;33m\u001B[0m\u001B[1;33m\u001B[0m\u001B[0m\n\u001B[0m\u001B[0;32m     71\u001B[0m         \u001B[0minverse_i\u001B[0m \u001B[1;33m=\u001B[0m \u001B[0mnum_items\u001B[0m \u001B[1;33m-\u001B[0m \u001B[0mi\u001B[0m\u001B[1;33m\u001B[0m\u001B[1;33m\u001B[0m\u001B[0m\n\u001B[0;32m     72\u001B[0m         \u001B[0mout\u001B[0m \u001B[1;33m^=\u001B[0m \u001B[0ma\u001B[0m\u001B[1;33m\u001B[0m\u001B[1;33m\u001B[0m\u001B[0m\n",
      "\u001B[1;32m~\\anaconda3\\lib\\site-packages\\pandas\\core\\util\\hashing.py\u001B[0m in \u001B[0;36m<genexpr>\u001B[1;34m(.0)\u001B[0m\n\u001B[0;32m    160\u001B[0m             \u001B[1;31m# keep `hashes` specifically a generator to keep mypy happy\u001B[0m\u001B[1;33m\u001B[0m\u001B[1;33m\u001B[0m\u001B[0m\n\u001B[0;32m    161\u001B[0m             \u001B[0m_hashes\u001B[0m \u001B[1;33m=\u001B[0m \u001B[0mitertools\u001B[0m\u001B[1;33m.\u001B[0m\u001B[0mchain\u001B[0m\u001B[1;33m(\u001B[0m\u001B[0mhashes\u001B[0m\u001B[1;33m,\u001B[0m \u001B[0mindex_hash_generator\u001B[0m\u001B[1;33m)\u001B[0m\u001B[1;33m\u001B[0m\u001B[1;33m\u001B[0m\u001B[0m\n\u001B[1;32m--> 162\u001B[1;33m             \u001B[0mhashes\u001B[0m \u001B[1;33m=\u001B[0m \u001B[1;33m(\u001B[0m\u001B[0mx\u001B[0m \u001B[1;32mfor\u001B[0m \u001B[0mx\u001B[0m \u001B[1;32min\u001B[0m \u001B[0m_hashes\u001B[0m\u001B[1;33m)\u001B[0m\u001B[1;33m\u001B[0m\u001B[1;33m\u001B[0m\u001B[0m\n\u001B[0m\u001B[0;32m    163\u001B[0m         \u001B[0mh\u001B[0m \u001B[1;33m=\u001B[0m \u001B[0mcombine_hash_arrays\u001B[0m\u001B[1;33m(\u001B[0m\u001B[0mhashes\u001B[0m\u001B[1;33m,\u001B[0m \u001B[0mnum_items\u001B[0m\u001B[1;33m)\u001B[0m\u001B[1;33m\u001B[0m\u001B[1;33m\u001B[0m\u001B[0m\n\u001B[0;32m    164\u001B[0m \u001B[1;33m\u001B[0m\u001B[0m\n",
      "\u001B[1;32m~\\anaconda3\\lib\\site-packages\\pandas\\core\\util\\hashing.py\u001B[0m in \u001B[0;36m<genexpr>\u001B[1;34m(.0)\u001B[0m\n\u001B[0;32m    141\u001B[0m     \u001B[1;32melif\u001B[0m \u001B[0misinstance\u001B[0m\u001B[1;33m(\u001B[0m\u001B[0mobj\u001B[0m\u001B[1;33m,\u001B[0m \u001B[0mABCDataFrame\u001B[0m\u001B[1;33m)\u001B[0m\u001B[1;33m:\u001B[0m\u001B[1;33m\u001B[0m\u001B[1;33m\u001B[0m\u001B[0m\n\u001B[0;32m    142\u001B[0m         hashes = (\n\u001B[1;32m--> 143\u001B[1;33m             \u001B[0mhash_array\u001B[0m\u001B[1;33m(\u001B[0m\u001B[0mseries\u001B[0m\u001B[1;33m.\u001B[0m\u001B[0m_values\u001B[0m\u001B[1;33m,\u001B[0m \u001B[0mencoding\u001B[0m\u001B[1;33m,\u001B[0m \u001B[0mhash_key\u001B[0m\u001B[1;33m,\u001B[0m \u001B[0mcategorize\u001B[0m\u001B[1;33m)\u001B[0m\u001B[1;33m\u001B[0m\u001B[1;33m\u001B[0m\u001B[0m\n\u001B[0m\u001B[0;32m    144\u001B[0m             \u001B[1;32mfor\u001B[0m \u001B[0m_\u001B[0m\u001B[1;33m,\u001B[0m \u001B[0mseries\u001B[0m \u001B[1;32min\u001B[0m \u001B[0mobj\u001B[0m\u001B[1;33m.\u001B[0m\u001B[0mitems\u001B[0m\u001B[1;33m(\u001B[0m\u001B[1;33m)\u001B[0m\u001B[1;33m\u001B[0m\u001B[1;33m\u001B[0m\u001B[0m\n\u001B[0;32m    145\u001B[0m         )\n",
      "\u001B[1;32m~\\anaconda3\\lib\\site-packages\\pandas\\core\\util\\hashing.py\u001B[0m in \u001B[0;36mhash_array\u001B[1;34m(vals, encoding, hash_key, categorize)\u001B[0m\n\u001B[0;32m    293\u001B[0m         \u001B[0mvals\u001B[0m\u001B[1;33m,\u001B[0m \u001B[0m_\u001B[0m \u001B[1;33m=\u001B[0m \u001B[0mvals\u001B[0m\u001B[1;33m.\u001B[0m\u001B[0m_values_for_factorize\u001B[0m\u001B[1;33m(\u001B[0m\u001B[1;33m)\u001B[0m\u001B[1;33m\u001B[0m\u001B[1;33m\u001B[0m\u001B[0m\n\u001B[0;32m    294\u001B[0m \u001B[1;33m\u001B[0m\u001B[0m\n\u001B[1;32m--> 295\u001B[1;33m     \u001B[1;32mreturn\u001B[0m \u001B[0m_hash_ndarray\u001B[0m\u001B[1;33m(\u001B[0m\u001B[0mvals\u001B[0m\u001B[1;33m,\u001B[0m \u001B[0mencoding\u001B[0m\u001B[1;33m,\u001B[0m \u001B[0mhash_key\u001B[0m\u001B[1;33m,\u001B[0m \u001B[0mcategorize\u001B[0m\u001B[1;33m)\u001B[0m\u001B[1;33m\u001B[0m\u001B[1;33m\u001B[0m\u001B[0m\n\u001B[0m\u001B[0;32m    296\u001B[0m \u001B[1;33m\u001B[0m\u001B[0m\n\u001B[0;32m    297\u001B[0m \u001B[1;33m\u001B[0m\u001B[0m\n",
      "\u001B[1;32m~\\anaconda3\\lib\\site-packages\\pandas\\core\\util\\hashing.py\u001B[0m in \u001B[0;36m_hash_ndarray\u001B[1;34m(vals, encoding, hash_key, categorize)\u001B[0m\n\u001B[0;32m    333\u001B[0m             \u001B[0mcodes\u001B[0m\u001B[1;33m,\u001B[0m \u001B[0mcategories\u001B[0m \u001B[1;33m=\u001B[0m \u001B[0mfactorize\u001B[0m\u001B[1;33m(\u001B[0m\u001B[0mvals\u001B[0m\u001B[1;33m,\u001B[0m \u001B[0msort\u001B[0m\u001B[1;33m=\u001B[0m\u001B[1;32mFalse\u001B[0m\u001B[1;33m)\u001B[0m\u001B[1;33m\u001B[0m\u001B[1;33m\u001B[0m\u001B[0m\n\u001B[0;32m    334\u001B[0m             \u001B[0mcat\u001B[0m \u001B[1;33m=\u001B[0m \u001B[0mCategorical\u001B[0m\u001B[1;33m(\u001B[0m\u001B[0mcodes\u001B[0m\u001B[1;33m,\u001B[0m \u001B[0mIndex\u001B[0m\u001B[1;33m(\u001B[0m\u001B[0mcategories\u001B[0m\u001B[1;33m)\u001B[0m\u001B[1;33m,\u001B[0m \u001B[0mordered\u001B[0m\u001B[1;33m=\u001B[0m\u001B[1;32mFalse\u001B[0m\u001B[1;33m,\u001B[0m \u001B[0mfastpath\u001B[0m\u001B[1;33m=\u001B[0m\u001B[1;32mTrue\u001B[0m\u001B[1;33m)\u001B[0m\u001B[1;33m\u001B[0m\u001B[1;33m\u001B[0m\u001B[0m\n\u001B[1;32m--> 335\u001B[1;33m             \u001B[1;32mreturn\u001B[0m \u001B[0m_hash_categorical\u001B[0m\u001B[1;33m(\u001B[0m\u001B[0mcat\u001B[0m\u001B[1;33m,\u001B[0m \u001B[0mencoding\u001B[0m\u001B[1;33m,\u001B[0m \u001B[0mhash_key\u001B[0m\u001B[1;33m)\u001B[0m\u001B[1;33m\u001B[0m\u001B[1;33m\u001B[0m\u001B[0m\n\u001B[0m\u001B[0;32m    336\u001B[0m \u001B[1;33m\u001B[0m\u001B[0m\n\u001B[0;32m    337\u001B[0m         \u001B[1;32mtry\u001B[0m\u001B[1;33m:\u001B[0m\u001B[1;33m\u001B[0m\u001B[1;33m\u001B[0m\u001B[0m\n",
      "\u001B[1;32m~\\anaconda3\\lib\\site-packages\\pandas\\core\\util\\hashing.py\u001B[0m in \u001B[0;36m_hash_categorical\u001B[1;34m(cat, encoding, hash_key)\u001B[0m\n\u001B[0;32m    233\u001B[0m     \u001B[1;31m# Convert ExtensionArrays to ndarrays\u001B[0m\u001B[1;33m\u001B[0m\u001B[1;33m\u001B[0m\u001B[0m\n\u001B[0;32m    234\u001B[0m     \u001B[0mvalues\u001B[0m \u001B[1;33m=\u001B[0m \u001B[0mnp\u001B[0m\u001B[1;33m.\u001B[0m\u001B[0masarray\u001B[0m\u001B[1;33m(\u001B[0m\u001B[0mcat\u001B[0m\u001B[1;33m.\u001B[0m\u001B[0mcategories\u001B[0m\u001B[1;33m.\u001B[0m\u001B[0m_values\u001B[0m\u001B[1;33m)\u001B[0m\u001B[1;33m\u001B[0m\u001B[1;33m\u001B[0m\u001B[0m\n\u001B[1;32m--> 235\u001B[1;33m     \u001B[0mhashed\u001B[0m \u001B[1;33m=\u001B[0m \u001B[0mhash_array\u001B[0m\u001B[1;33m(\u001B[0m\u001B[0mvalues\u001B[0m\u001B[1;33m,\u001B[0m \u001B[0mencoding\u001B[0m\u001B[1;33m,\u001B[0m \u001B[0mhash_key\u001B[0m\u001B[1;33m,\u001B[0m \u001B[0mcategorize\u001B[0m\u001B[1;33m=\u001B[0m\u001B[1;32mFalse\u001B[0m\u001B[1;33m)\u001B[0m\u001B[1;33m\u001B[0m\u001B[1;33m\u001B[0m\u001B[0m\n\u001B[0m\u001B[0;32m    236\u001B[0m \u001B[1;33m\u001B[0m\u001B[0m\n\u001B[0;32m    237\u001B[0m     \u001B[1;31m# we have uint64, as we don't directly support missing values\u001B[0m\u001B[1;33m\u001B[0m\u001B[1;33m\u001B[0m\u001B[0m\n",
      "\u001B[1;32m~\\anaconda3\\lib\\site-packages\\pandas\\core\\util\\hashing.py\u001B[0m in \u001B[0;36mhash_array\u001B[1;34m(vals, encoding, hash_key, categorize)\u001B[0m\n\u001B[0;32m    293\u001B[0m         \u001B[0mvals\u001B[0m\u001B[1;33m,\u001B[0m \u001B[0m_\u001B[0m \u001B[1;33m=\u001B[0m \u001B[0mvals\u001B[0m\u001B[1;33m.\u001B[0m\u001B[0m_values_for_factorize\u001B[0m\u001B[1;33m(\u001B[0m\u001B[1;33m)\u001B[0m\u001B[1;33m\u001B[0m\u001B[1;33m\u001B[0m\u001B[0m\n\u001B[0;32m    294\u001B[0m \u001B[1;33m\u001B[0m\u001B[0m\n\u001B[1;32m--> 295\u001B[1;33m     \u001B[1;32mreturn\u001B[0m \u001B[0m_hash_ndarray\u001B[0m\u001B[1;33m(\u001B[0m\u001B[0mvals\u001B[0m\u001B[1;33m,\u001B[0m \u001B[0mencoding\u001B[0m\u001B[1;33m,\u001B[0m \u001B[0mhash_key\u001B[0m\u001B[1;33m,\u001B[0m \u001B[0mcategorize\u001B[0m\u001B[1;33m)\u001B[0m\u001B[1;33m\u001B[0m\u001B[1;33m\u001B[0m\u001B[0m\n\u001B[0m\u001B[0;32m    296\u001B[0m \u001B[1;33m\u001B[0m\u001B[0m\n\u001B[0;32m    297\u001B[0m \u001B[1;33m\u001B[0m\u001B[0m\n",
      "\u001B[1;32m~\\anaconda3\\lib\\site-packages\\pandas\\core\\util\\hashing.py\u001B[0m in \u001B[0;36m_hash_ndarray\u001B[1;34m(vals, encoding, hash_key, categorize)\u001B[0m\n\u001B[0;32m    336\u001B[0m \u001B[1;33m\u001B[0m\u001B[0m\n\u001B[0;32m    337\u001B[0m         \u001B[1;32mtry\u001B[0m\u001B[1;33m:\u001B[0m\u001B[1;33m\u001B[0m\u001B[1;33m\u001B[0m\u001B[0m\n\u001B[1;32m--> 338\u001B[1;33m             \u001B[0mvals\u001B[0m \u001B[1;33m=\u001B[0m \u001B[0mhash_object_array\u001B[0m\u001B[1;33m(\u001B[0m\u001B[0mvals\u001B[0m\u001B[1;33m,\u001B[0m \u001B[0mhash_key\u001B[0m\u001B[1;33m,\u001B[0m \u001B[0mencoding\u001B[0m\u001B[1;33m)\u001B[0m\u001B[1;33m\u001B[0m\u001B[1;33m\u001B[0m\u001B[0m\n\u001B[0m\u001B[0;32m    339\u001B[0m         \u001B[1;32mexcept\u001B[0m \u001B[0mTypeError\u001B[0m\u001B[1;33m:\u001B[0m\u001B[1;33m\u001B[0m\u001B[1;33m\u001B[0m\u001B[0m\n\u001B[0;32m    340\u001B[0m             \u001B[1;31m# we have mixed types\u001B[0m\u001B[1;33m\u001B[0m\u001B[1;33m\u001B[0m\u001B[0m\n",
      "\u001B[1;32m~\\anaconda3\\lib\\site-packages\\pandas\\_libs\\hashing.pyx\u001B[0m in \u001B[0;36mpandas._libs.hashing.hash_object_array\u001B[1;34m()\u001B[0m\n",
      "\u001B[1;32m~\\anaconda3\\lib\\site-packages\\interchange\\time.py\u001B[0m in \u001B[0;36m__format__\u001B[1;34m(self, format_spec)\u001B[0m\n\u001B[0;32m    829\u001B[0m \u001B[1;33m\u001B[0m\u001B[0m\n\u001B[0;32m    830\u001B[0m     \u001B[1;32mdef\u001B[0m \u001B[0m__format__\u001B[0m\u001B[1;33m(\u001B[0m\u001B[0mself\u001B[0m\u001B[1;33m,\u001B[0m \u001B[0mformat_spec\u001B[0m\u001B[1;33m)\u001B[0m\u001B[1;33m:\u001B[0m\u001B[1;33m\u001B[0m\u001B[1;33m\u001B[0m\u001B[0m\n\u001B[1;32m--> 831\u001B[1;33m         \u001B[1;32mraise\u001B[0m \u001B[0mNotImplementedError\u001B[0m\u001B[1;33m(\u001B[0m\u001B[1;33m)\u001B[0m\u001B[1;33m\u001B[0m\u001B[1;33m\u001B[0m\u001B[0m\n\u001B[0m\u001B[0;32m    832\u001B[0m \u001B[1;33m\u001B[0m\u001B[0m\n\u001B[0;32m    833\u001B[0m     \u001B[0mstrftime\u001B[0m \u001B[1;33m=\u001B[0m \u001B[0m__format__\u001B[0m\u001B[1;33m\u001B[0m\u001B[1;33m\u001B[0m\u001B[0m\n",
      "\u001B[1;31mNotImplementedError\u001B[0m: "
     ]
    }
   ],
   "source": [
    "g = graphistry.bind()\n",
    "g = g.bind(source=\"id1\", destination=\"id2\").edges(q_for_date_edges)\n",
    "g.plot()"
   ]
  },
  {
   "cell_type": "code",
   "execution_count": 210,
   "id": "14002eb7",
   "metadata": {},
   "outputs": [
    {
     "ename": "NotImplementedError",
     "evalue": "",
     "output_type": "error",
     "traceback": [
      "\u001B[1;31m---------------------------------------------------------------------------\u001B[0m",
      "\u001B[1;31mNotImplementedError\u001B[0m                       Traceback (most recent call last)",
      "\u001B[1;32m~\\AppData\\Local\\Temp/ipykernel_16280/173573590.py\u001B[0m in \u001B[0;36m<module>\u001B[1;34m\u001B[0m\n\u001B[0;32m      1\u001B[0m \u001B[0mg\u001B[0m \u001B[1;33m=\u001B[0m \u001B[0mgraphistry\u001B[0m\u001B[1;33m.\u001B[0m\u001B[0mbind\u001B[0m\u001B[1;33m(\u001B[0m\u001B[1;33m)\u001B[0m\u001B[1;33m\u001B[0m\u001B[1;33m\u001B[0m\u001B[0m\n\u001B[0;32m      2\u001B[0m \u001B[0mg\u001B[0m \u001B[1;33m=\u001B[0m \u001B[0mg\u001B[0m\u001B[1;33m.\u001B[0m\u001B[0mbind\u001B[0m\u001B[1;33m(\u001B[0m\u001B[0msource\u001B[0m\u001B[1;33m=\u001B[0m\u001B[1;34m\"id1\"\u001B[0m\u001B[1;33m,\u001B[0m \u001B[0mdestination\u001B[0m\u001B[1;33m=\u001B[0m\u001B[1;34m\"id2\"\u001B[0m\u001B[1;33m,\u001B[0m\u001B[0mnode\u001B[0m\u001B[1;33m=\u001B[0m\u001B[1;34m\"id\"\u001B[0m\u001B[1;33m)\u001B[0m\u001B[1;33m.\u001B[0m\u001B[0mnodes\u001B[0m\u001B[1;33m(\u001B[0m\u001B[0mq_for_date_data\u001B[0m\u001B[1;33m)\u001B[0m\u001B[1;33m.\u001B[0m\u001B[0medges\u001B[0m\u001B[1;33m(\u001B[0m\u001B[0mq_for_date_edges\u001B[0m\u001B[1;33m)\u001B[0m\u001B[1;33m\u001B[0m\u001B[1;33m\u001B[0m\u001B[0m\n\u001B[1;32m----> 3\u001B[1;33m \u001B[0mviz\u001B[0m\u001B[1;33m.\u001B[0m\u001B[0mplot\u001B[0m\u001B[1;33m(\u001B[0m\u001B[1;33m)\u001B[0m\u001B[1;33m\u001B[0m\u001B[1;33m\u001B[0m\u001B[0m\n\u001B[0m",
      "\u001B[1;32m~\\anaconda3\\lib\\site-packages\\graphistry\\PlotterBase.py\u001B[0m in \u001B[0;36mplot\u001B[1;34m(self, graph, nodes, name, description, render, skip_upload, as_files, memoize, extra_html, override_html_style)\u001B[0m\n\u001B[0;32m   1231\u001B[0m         \u001B[1;32melif\u001B[0m \u001B[0mapi_version\u001B[0m \u001B[1;33m==\u001B[0m \u001B[1;36m3\u001B[0m\u001B[1;33m:\u001B[0m\u001B[1;33m\u001B[0m\u001B[1;33m\u001B[0m\u001B[0m\n\u001B[0;32m   1232\u001B[0m             \u001B[0mPyGraphistry\u001B[0m\u001B[1;33m.\u001B[0m\u001B[0mrefresh\u001B[0m\u001B[1;33m(\u001B[0m\u001B[1;33m)\u001B[0m\u001B[1;33m\u001B[0m\u001B[1;33m\u001B[0m\u001B[0m\n\u001B[1;32m-> 1233\u001B[1;33m             \u001B[0mdataset\u001B[0m \u001B[1;33m=\u001B[0m \u001B[0mself\u001B[0m\u001B[1;33m.\u001B[0m\u001B[0m_plot_dispatch\u001B[0m\u001B[1;33m(\u001B[0m\u001B[0mg\u001B[0m\u001B[1;33m,\u001B[0m \u001B[0mn\u001B[0m\u001B[1;33m,\u001B[0m \u001B[0mname\u001B[0m\u001B[1;33m,\u001B[0m \u001B[0mdescription\u001B[0m\u001B[1;33m,\u001B[0m \u001B[1;34m'arrow'\u001B[0m\u001B[1;33m,\u001B[0m \u001B[0mself\u001B[0m\u001B[1;33m.\u001B[0m\u001B[0m_style\u001B[0m\u001B[1;33m,\u001B[0m \u001B[0mmemoize\u001B[0m\u001B[1;33m)\u001B[0m\u001B[1;33m\u001B[0m\u001B[1;33m\u001B[0m\u001B[0m\n\u001B[0m\u001B[0;32m   1234\u001B[0m             \u001B[1;32mif\u001B[0m \u001B[0mskip_upload\u001B[0m\u001B[1;33m:\u001B[0m\u001B[1;33m\u001B[0m\u001B[1;33m\u001B[0m\u001B[0m\n\u001B[0;32m   1235\u001B[0m                 \u001B[1;32mreturn\u001B[0m \u001B[0mdataset\u001B[0m\u001B[1;33m\u001B[0m\u001B[1;33m\u001B[0m\u001B[0m\n",
      "\u001B[1;32m~\\anaconda3\\lib\\site-packages\\graphistry\\PlotterBase.py\u001B[0m in \u001B[0;36m_plot_dispatch\u001B[1;34m(self, graph, nodes, name, description, mode, metadata, memoize)\u001B[0m\n\u001B[0;32m   1398\u001B[0m                 \u001B[1;32mor\u001B[0m \u001B[1;33m(\u001B[0m \u001B[1;32mnot\u001B[0m \u001B[1;33m(\u001B[0m\u001B[0mmaybe_dask_dataframe\u001B[0m \u001B[1;32mis\u001B[0m \u001B[1;32mNone\u001B[0m\u001B[1;33m)\u001B[0m \u001B[1;32mand\u001B[0m \u001B[0misinstance\u001B[0m\u001B[1;33m(\u001B[0m\u001B[0mgraph\u001B[0m\u001B[1;33m,\u001B[0m \u001B[0mmaybe_dask_dataframe\u001B[0m\u001B[1;33m.\u001B[0m\u001B[0mDataFrame\u001B[0m\u001B[1;33m)\u001B[0m \u001B[1;33m)\u001B[0m\u001B[0;31m \u001B[0m\u001B[0;31m\\\u001B[0m\u001B[1;33m\u001B[0m\u001B[1;33m\u001B[0m\u001B[0m\n\u001B[0;32m   1399\u001B[0m                 \u001B[1;32mor\u001B[0m \u001B[1;33m(\u001B[0m \u001B[1;32mnot\u001B[0m \u001B[1;33m(\u001B[0m\u001B[0mmaybe_spark\u001B[0m \u001B[1;32mis\u001B[0m \u001B[1;32mNone\u001B[0m\u001B[1;33m)\u001B[0m \u001B[1;32mand\u001B[0m \u001B[0misinstance\u001B[0m\u001B[1;33m(\u001B[0m\u001B[0mgraph\u001B[0m\u001B[1;33m,\u001B[0m \u001B[0mpyspark\u001B[0m\u001B[1;33m.\u001B[0m\u001B[0msql\u001B[0m\u001B[1;33m.\u001B[0m\u001B[0mdataframe\u001B[0m\u001B[1;33m.\u001B[0m\u001B[0mDataFrame\u001B[0m\u001B[1;33m)\u001B[0m \u001B[1;33m)\u001B[0m\u001B[1;33m:\u001B[0m\u001B[1;33m\u001B[0m\u001B[1;33m\u001B[0m\u001B[0m\n\u001B[1;32m-> 1400\u001B[1;33m             \u001B[1;32mreturn\u001B[0m \u001B[0mg\u001B[0m\u001B[1;33m.\u001B[0m\u001B[0m_make_dataset\u001B[0m\u001B[1;33m(\u001B[0m\u001B[0mgraph\u001B[0m\u001B[1;33m,\u001B[0m \u001B[0mnodes\u001B[0m\u001B[1;33m,\u001B[0m \u001B[0mname\u001B[0m\u001B[1;33m,\u001B[0m \u001B[0mdescription\u001B[0m\u001B[1;33m,\u001B[0m \u001B[0mmode\u001B[0m\u001B[1;33m,\u001B[0m \u001B[0mmetadata\u001B[0m\u001B[1;33m,\u001B[0m \u001B[0mmemoize\u001B[0m\u001B[1;33m)\u001B[0m\u001B[1;33m\u001B[0m\u001B[1;33m\u001B[0m\u001B[0m\n\u001B[0m\u001B[0;32m   1401\u001B[0m \u001B[1;33m\u001B[0m\u001B[0m\n\u001B[0;32m   1402\u001B[0m         \u001B[1;32mtry\u001B[0m\u001B[1;33m:\u001B[0m\u001B[1;33m\u001B[0m\u001B[1;33m\u001B[0m\u001B[0m\n",
      "\u001B[1;32m~\\anaconda3\\lib\\site-packages\\graphistry\\PlotterBase.py\u001B[0m in \u001B[0;36m_make_dataset\u001B[1;34m(self, edges, nodes, name, description, mode, metadata, memoize)\u001B[0m\n\u001B[0;32m   1703\u001B[0m             \u001B[1;32mreturn\u001B[0m \u001B[0mself\u001B[0m\u001B[1;33m.\u001B[0m\u001B[0m_make_vgraph_dataset\u001B[0m\u001B[1;33m(\u001B[0m\u001B[0medges_df\u001B[0m\u001B[1;33m,\u001B[0m \u001B[0mnodes_df\u001B[0m\u001B[1;33m,\u001B[0m \u001B[0mname\u001B[0m\u001B[1;33m)\u001B[0m\u001B[1;33m\u001B[0m\u001B[1;33m\u001B[0m\u001B[0m\n\u001B[0;32m   1704\u001B[0m         \u001B[1;32melif\u001B[0m \u001B[0mmode\u001B[0m \u001B[1;33m==\u001B[0m \u001B[1;34m'arrow'\u001B[0m\u001B[1;33m:\u001B[0m\u001B[1;33m\u001B[0m\u001B[1;33m\u001B[0m\u001B[0m\n\u001B[1;32m-> 1705\u001B[1;33m             \u001B[0medges_arr\u001B[0m \u001B[1;33m=\u001B[0m \u001B[0mself\u001B[0m\u001B[1;33m.\u001B[0m\u001B[0m_table_to_arrow\u001B[0m\u001B[1;33m(\u001B[0m\u001B[0medges\u001B[0m\u001B[1;33m,\u001B[0m \u001B[0mmemoize\u001B[0m\u001B[1;33m)\u001B[0m\u001B[1;33m\u001B[0m\u001B[1;33m\u001B[0m\u001B[0m\n\u001B[0m\u001B[0;32m   1706\u001B[0m             \u001B[0mnodes_arr\u001B[0m \u001B[1;33m=\u001B[0m \u001B[0mself\u001B[0m\u001B[1;33m.\u001B[0m\u001B[0m_table_to_arrow\u001B[0m\u001B[1;33m(\u001B[0m\u001B[0mnodes\u001B[0m\u001B[1;33m,\u001B[0m \u001B[0mmemoize\u001B[0m\u001B[1;33m)\u001B[0m\u001B[1;33m\u001B[0m\u001B[1;33m\u001B[0m\u001B[0m\n\u001B[0;32m   1707\u001B[0m             \u001B[1;32mreturn\u001B[0m \u001B[0mself\u001B[0m\u001B[1;33m.\u001B[0m\u001B[0m_make_arrow_dataset\u001B[0m\u001B[1;33m(\u001B[0m\u001B[0medges\u001B[0m\u001B[1;33m=\u001B[0m\u001B[0medges_arr\u001B[0m\u001B[1;33m,\u001B[0m \u001B[0mnodes\u001B[0m\u001B[1;33m=\u001B[0m\u001B[0mnodes_arr\u001B[0m\u001B[1;33m,\u001B[0m \u001B[0mname\u001B[0m\u001B[1;33m=\u001B[0m\u001B[0mname\u001B[0m\u001B[1;33m,\u001B[0m \u001B[0mdescription\u001B[0m\u001B[1;33m=\u001B[0m\u001B[0mdescription\u001B[0m\u001B[1;33m,\u001B[0m \u001B[0mmetadata\u001B[0m\u001B[1;33m=\u001B[0m\u001B[0mmetadata\u001B[0m\u001B[1;33m)\u001B[0m\u001B[1;33m\u001B[0m\u001B[1;33m\u001B[0m\u001B[0m\n",
      "\u001B[1;32m~\\anaconda3\\lib\\site-packages\\graphistry\\PlotterBase.py\u001B[0m in \u001B[0;36m_table_to_arrow\u001B[1;34m(self, table, memoize)\u001B[0m\n\u001B[0;32m   1599\u001B[0m                 \u001B[1;32mtry\u001B[0m\u001B[1;33m:\u001B[0m\u001B[1;33m\u001B[0m\u001B[1;33m\u001B[0m\u001B[0m\n\u001B[0;32m   1600\u001B[0m                     \u001B[1;31m#https://stackoverflow.com/questions/31567401/get-the-same-hash-value-for-a-pandas-dataframe-each-time\u001B[0m\u001B[1;33m\u001B[0m\u001B[1;33m\u001B[0m\u001B[0m\n\u001B[1;32m-> 1601\u001B[1;33m                     \u001B[0mhashed\u001B[0m \u001B[1;33m=\u001B[0m \u001B[0mhashlib\u001B[0m\u001B[1;33m.\u001B[0m\u001B[0msha256\u001B[0m\u001B[1;33m(\u001B[0m\u001B[0mpd\u001B[0m\u001B[1;33m.\u001B[0m\u001B[0mutil\u001B[0m\u001B[1;33m.\u001B[0m\u001B[0mhash_pandas_object\u001B[0m\u001B[1;33m(\u001B[0m\u001B[0mtable\u001B[0m\u001B[1;33m,\u001B[0m \u001B[0mindex\u001B[0m\u001B[1;33m=\u001B[0m\u001B[1;32mTrue\u001B[0m\u001B[1;33m)\u001B[0m\u001B[1;33m.\u001B[0m\u001B[0mvalues\u001B[0m\u001B[1;33m)\u001B[0m\u001B[1;33m.\u001B[0m\u001B[0mhexdigest\u001B[0m\u001B[1;33m(\u001B[0m\u001B[1;33m)\u001B[0m\u001B[1;33m\u001B[0m\u001B[1;33m\u001B[0m\u001B[0m\n\u001B[0m\u001B[0;32m   1602\u001B[0m                 \u001B[1;32mexcept\u001B[0m \u001B[0mTypeError\u001B[0m\u001B[1;33m:\u001B[0m\u001B[1;33m\u001B[0m\u001B[1;33m\u001B[0m\u001B[0m\n\u001B[0;32m   1603\u001B[0m                     logger.warn('Failed memoization speedup attempt due to Pandas internal hash function failing. Continuing without memoization speedups.'\n",
      "\u001B[1;32m~\\anaconda3\\lib\\site-packages\\pandas\\core\\util\\hashing.py\u001B[0m in \u001B[0;36mhash_pandas_object\u001B[1;34m(obj, index, encoding, hash_key, categorize)\u001B[0m\n\u001B[0;32m    161\u001B[0m             \u001B[0m_hashes\u001B[0m \u001B[1;33m=\u001B[0m \u001B[0mitertools\u001B[0m\u001B[1;33m.\u001B[0m\u001B[0mchain\u001B[0m\u001B[1;33m(\u001B[0m\u001B[0mhashes\u001B[0m\u001B[1;33m,\u001B[0m \u001B[0mindex_hash_generator\u001B[0m\u001B[1;33m)\u001B[0m\u001B[1;33m\u001B[0m\u001B[1;33m\u001B[0m\u001B[0m\n\u001B[0;32m    162\u001B[0m             \u001B[0mhashes\u001B[0m \u001B[1;33m=\u001B[0m \u001B[1;33m(\u001B[0m\u001B[0mx\u001B[0m \u001B[1;32mfor\u001B[0m \u001B[0mx\u001B[0m \u001B[1;32min\u001B[0m \u001B[0m_hashes\u001B[0m\u001B[1;33m)\u001B[0m\u001B[1;33m\u001B[0m\u001B[1;33m\u001B[0m\u001B[0m\n\u001B[1;32m--> 163\u001B[1;33m         \u001B[0mh\u001B[0m \u001B[1;33m=\u001B[0m \u001B[0mcombine_hash_arrays\u001B[0m\u001B[1;33m(\u001B[0m\u001B[0mhashes\u001B[0m\u001B[1;33m,\u001B[0m \u001B[0mnum_items\u001B[0m\u001B[1;33m)\u001B[0m\u001B[1;33m\u001B[0m\u001B[1;33m\u001B[0m\u001B[0m\n\u001B[0m\u001B[0;32m    164\u001B[0m \u001B[1;33m\u001B[0m\u001B[0m\n\u001B[0;32m    165\u001B[0m         \u001B[0mser\u001B[0m \u001B[1;33m=\u001B[0m \u001B[0mSeries\u001B[0m\u001B[1;33m(\u001B[0m\u001B[0mh\u001B[0m\u001B[1;33m,\u001B[0m \u001B[0mindex\u001B[0m\u001B[1;33m=\u001B[0m\u001B[0mobj\u001B[0m\u001B[1;33m.\u001B[0m\u001B[0mindex\u001B[0m\u001B[1;33m,\u001B[0m \u001B[0mdtype\u001B[0m\u001B[1;33m=\u001B[0m\u001B[1;34m\"uint64\"\u001B[0m\u001B[1;33m,\u001B[0m \u001B[0mcopy\u001B[0m\u001B[1;33m=\u001B[0m\u001B[1;32mFalse\u001B[0m\u001B[1;33m)\u001B[0m\u001B[1;33m\u001B[0m\u001B[1;33m\u001B[0m\u001B[0m\n",
      "\u001B[1;32m~\\anaconda3\\lib\\site-packages\\pandas\\core\\util\\hashing.py\u001B[0m in \u001B[0;36mcombine_hash_arrays\u001B[1;34m(arrays, num_items)\u001B[0m\n\u001B[0;32m     68\u001B[0m     \u001B[0mmult\u001B[0m \u001B[1;33m=\u001B[0m \u001B[0mnp\u001B[0m\u001B[1;33m.\u001B[0m\u001B[0muint64\u001B[0m\u001B[1;33m(\u001B[0m\u001B[1;36m1000003\u001B[0m\u001B[1;33m)\u001B[0m\u001B[1;33m\u001B[0m\u001B[1;33m\u001B[0m\u001B[0m\n\u001B[0;32m     69\u001B[0m     \u001B[0mout\u001B[0m \u001B[1;33m=\u001B[0m \u001B[0mnp\u001B[0m\u001B[1;33m.\u001B[0m\u001B[0mzeros_like\u001B[0m\u001B[1;33m(\u001B[0m\u001B[0mfirst\u001B[0m\u001B[1;33m)\u001B[0m \u001B[1;33m+\u001B[0m \u001B[0mnp\u001B[0m\u001B[1;33m.\u001B[0m\u001B[0muint64\u001B[0m\u001B[1;33m(\u001B[0m\u001B[1;36m0x345678\u001B[0m\u001B[1;33m)\u001B[0m\u001B[1;33m\u001B[0m\u001B[1;33m\u001B[0m\u001B[0m\n\u001B[1;32m---> 70\u001B[1;33m     \u001B[1;32mfor\u001B[0m \u001B[0mi\u001B[0m\u001B[1;33m,\u001B[0m \u001B[0ma\u001B[0m \u001B[1;32min\u001B[0m \u001B[0menumerate\u001B[0m\u001B[1;33m(\u001B[0m\u001B[0marrays\u001B[0m\u001B[1;33m)\u001B[0m\u001B[1;33m:\u001B[0m\u001B[1;33m\u001B[0m\u001B[1;33m\u001B[0m\u001B[0m\n\u001B[0m\u001B[0;32m     71\u001B[0m         \u001B[0minverse_i\u001B[0m \u001B[1;33m=\u001B[0m \u001B[0mnum_items\u001B[0m \u001B[1;33m-\u001B[0m \u001B[0mi\u001B[0m\u001B[1;33m\u001B[0m\u001B[1;33m\u001B[0m\u001B[0m\n\u001B[0;32m     72\u001B[0m         \u001B[0mout\u001B[0m \u001B[1;33m^=\u001B[0m \u001B[0ma\u001B[0m\u001B[1;33m\u001B[0m\u001B[1;33m\u001B[0m\u001B[0m\n",
      "\u001B[1;32m~\\anaconda3\\lib\\site-packages\\pandas\\core\\util\\hashing.py\u001B[0m in \u001B[0;36m<genexpr>\u001B[1;34m(.0)\u001B[0m\n\u001B[0;32m    160\u001B[0m             \u001B[1;31m# keep `hashes` specifically a generator to keep mypy happy\u001B[0m\u001B[1;33m\u001B[0m\u001B[1;33m\u001B[0m\u001B[0m\n\u001B[0;32m    161\u001B[0m             \u001B[0m_hashes\u001B[0m \u001B[1;33m=\u001B[0m \u001B[0mitertools\u001B[0m\u001B[1;33m.\u001B[0m\u001B[0mchain\u001B[0m\u001B[1;33m(\u001B[0m\u001B[0mhashes\u001B[0m\u001B[1;33m,\u001B[0m \u001B[0mindex_hash_generator\u001B[0m\u001B[1;33m)\u001B[0m\u001B[1;33m\u001B[0m\u001B[1;33m\u001B[0m\u001B[0m\n\u001B[1;32m--> 162\u001B[1;33m             \u001B[0mhashes\u001B[0m \u001B[1;33m=\u001B[0m \u001B[1;33m(\u001B[0m\u001B[0mx\u001B[0m \u001B[1;32mfor\u001B[0m \u001B[0mx\u001B[0m \u001B[1;32min\u001B[0m \u001B[0m_hashes\u001B[0m\u001B[1;33m)\u001B[0m\u001B[1;33m\u001B[0m\u001B[1;33m\u001B[0m\u001B[0m\n\u001B[0m\u001B[0;32m    163\u001B[0m         \u001B[0mh\u001B[0m \u001B[1;33m=\u001B[0m \u001B[0mcombine_hash_arrays\u001B[0m\u001B[1;33m(\u001B[0m\u001B[0mhashes\u001B[0m\u001B[1;33m,\u001B[0m \u001B[0mnum_items\u001B[0m\u001B[1;33m)\u001B[0m\u001B[1;33m\u001B[0m\u001B[1;33m\u001B[0m\u001B[0m\n\u001B[0;32m    164\u001B[0m \u001B[1;33m\u001B[0m\u001B[0m\n",
      "\u001B[1;32m~\\anaconda3\\lib\\site-packages\\pandas\\core\\util\\hashing.py\u001B[0m in \u001B[0;36m<genexpr>\u001B[1;34m(.0)\u001B[0m\n\u001B[0;32m    141\u001B[0m     \u001B[1;32melif\u001B[0m \u001B[0misinstance\u001B[0m\u001B[1;33m(\u001B[0m\u001B[0mobj\u001B[0m\u001B[1;33m,\u001B[0m \u001B[0mABCDataFrame\u001B[0m\u001B[1;33m)\u001B[0m\u001B[1;33m:\u001B[0m\u001B[1;33m\u001B[0m\u001B[1;33m\u001B[0m\u001B[0m\n\u001B[0;32m    142\u001B[0m         hashes = (\n\u001B[1;32m--> 143\u001B[1;33m             \u001B[0mhash_array\u001B[0m\u001B[1;33m(\u001B[0m\u001B[0mseries\u001B[0m\u001B[1;33m.\u001B[0m\u001B[0m_values\u001B[0m\u001B[1;33m,\u001B[0m \u001B[0mencoding\u001B[0m\u001B[1;33m,\u001B[0m \u001B[0mhash_key\u001B[0m\u001B[1;33m,\u001B[0m \u001B[0mcategorize\u001B[0m\u001B[1;33m)\u001B[0m\u001B[1;33m\u001B[0m\u001B[1;33m\u001B[0m\u001B[0m\n\u001B[0m\u001B[0;32m    144\u001B[0m             \u001B[1;32mfor\u001B[0m \u001B[0m_\u001B[0m\u001B[1;33m,\u001B[0m \u001B[0mseries\u001B[0m \u001B[1;32min\u001B[0m \u001B[0mobj\u001B[0m\u001B[1;33m.\u001B[0m\u001B[0mitems\u001B[0m\u001B[1;33m(\u001B[0m\u001B[1;33m)\u001B[0m\u001B[1;33m\u001B[0m\u001B[1;33m\u001B[0m\u001B[0m\n\u001B[0;32m    145\u001B[0m         )\n",
      "\u001B[1;32m~\\anaconda3\\lib\\site-packages\\pandas\\core\\util\\hashing.py\u001B[0m in \u001B[0;36mhash_array\u001B[1;34m(vals, encoding, hash_key, categorize)\u001B[0m\n\u001B[0;32m    293\u001B[0m         \u001B[0mvals\u001B[0m\u001B[1;33m,\u001B[0m \u001B[0m_\u001B[0m \u001B[1;33m=\u001B[0m \u001B[0mvals\u001B[0m\u001B[1;33m.\u001B[0m\u001B[0m_values_for_factorize\u001B[0m\u001B[1;33m(\u001B[0m\u001B[1;33m)\u001B[0m\u001B[1;33m\u001B[0m\u001B[1;33m\u001B[0m\u001B[0m\n\u001B[0;32m    294\u001B[0m \u001B[1;33m\u001B[0m\u001B[0m\n\u001B[1;32m--> 295\u001B[1;33m     \u001B[1;32mreturn\u001B[0m \u001B[0m_hash_ndarray\u001B[0m\u001B[1;33m(\u001B[0m\u001B[0mvals\u001B[0m\u001B[1;33m,\u001B[0m \u001B[0mencoding\u001B[0m\u001B[1;33m,\u001B[0m \u001B[0mhash_key\u001B[0m\u001B[1;33m,\u001B[0m \u001B[0mcategorize\u001B[0m\u001B[1;33m)\u001B[0m\u001B[1;33m\u001B[0m\u001B[1;33m\u001B[0m\u001B[0m\n\u001B[0m\u001B[0;32m    296\u001B[0m \u001B[1;33m\u001B[0m\u001B[0m\n\u001B[0;32m    297\u001B[0m \u001B[1;33m\u001B[0m\u001B[0m\n",
      "\u001B[1;32m~\\anaconda3\\lib\\site-packages\\pandas\\core\\util\\hashing.py\u001B[0m in \u001B[0;36m_hash_ndarray\u001B[1;34m(vals, encoding, hash_key, categorize)\u001B[0m\n\u001B[0;32m    333\u001B[0m             \u001B[0mcodes\u001B[0m\u001B[1;33m,\u001B[0m \u001B[0mcategories\u001B[0m \u001B[1;33m=\u001B[0m \u001B[0mfactorize\u001B[0m\u001B[1;33m(\u001B[0m\u001B[0mvals\u001B[0m\u001B[1;33m,\u001B[0m \u001B[0msort\u001B[0m\u001B[1;33m=\u001B[0m\u001B[1;32mFalse\u001B[0m\u001B[1;33m)\u001B[0m\u001B[1;33m\u001B[0m\u001B[1;33m\u001B[0m\u001B[0m\n\u001B[0;32m    334\u001B[0m             \u001B[0mcat\u001B[0m \u001B[1;33m=\u001B[0m \u001B[0mCategorical\u001B[0m\u001B[1;33m(\u001B[0m\u001B[0mcodes\u001B[0m\u001B[1;33m,\u001B[0m \u001B[0mIndex\u001B[0m\u001B[1;33m(\u001B[0m\u001B[0mcategories\u001B[0m\u001B[1;33m)\u001B[0m\u001B[1;33m,\u001B[0m \u001B[0mordered\u001B[0m\u001B[1;33m=\u001B[0m\u001B[1;32mFalse\u001B[0m\u001B[1;33m,\u001B[0m \u001B[0mfastpath\u001B[0m\u001B[1;33m=\u001B[0m\u001B[1;32mTrue\u001B[0m\u001B[1;33m)\u001B[0m\u001B[1;33m\u001B[0m\u001B[1;33m\u001B[0m\u001B[0m\n\u001B[1;32m--> 335\u001B[1;33m             \u001B[1;32mreturn\u001B[0m \u001B[0m_hash_categorical\u001B[0m\u001B[1;33m(\u001B[0m\u001B[0mcat\u001B[0m\u001B[1;33m,\u001B[0m \u001B[0mencoding\u001B[0m\u001B[1;33m,\u001B[0m \u001B[0mhash_key\u001B[0m\u001B[1;33m)\u001B[0m\u001B[1;33m\u001B[0m\u001B[1;33m\u001B[0m\u001B[0m\n\u001B[0m\u001B[0;32m    336\u001B[0m \u001B[1;33m\u001B[0m\u001B[0m\n\u001B[0;32m    337\u001B[0m         \u001B[1;32mtry\u001B[0m\u001B[1;33m:\u001B[0m\u001B[1;33m\u001B[0m\u001B[1;33m\u001B[0m\u001B[0m\n",
      "\u001B[1;32m~\\anaconda3\\lib\\site-packages\\pandas\\core\\util\\hashing.py\u001B[0m in \u001B[0;36m_hash_categorical\u001B[1;34m(cat, encoding, hash_key)\u001B[0m\n\u001B[0;32m    233\u001B[0m     \u001B[1;31m# Convert ExtensionArrays to ndarrays\u001B[0m\u001B[1;33m\u001B[0m\u001B[1;33m\u001B[0m\u001B[0m\n\u001B[0;32m    234\u001B[0m     \u001B[0mvalues\u001B[0m \u001B[1;33m=\u001B[0m \u001B[0mnp\u001B[0m\u001B[1;33m.\u001B[0m\u001B[0masarray\u001B[0m\u001B[1;33m(\u001B[0m\u001B[0mcat\u001B[0m\u001B[1;33m.\u001B[0m\u001B[0mcategories\u001B[0m\u001B[1;33m.\u001B[0m\u001B[0m_values\u001B[0m\u001B[1;33m)\u001B[0m\u001B[1;33m\u001B[0m\u001B[1;33m\u001B[0m\u001B[0m\n\u001B[1;32m--> 235\u001B[1;33m     \u001B[0mhashed\u001B[0m \u001B[1;33m=\u001B[0m \u001B[0mhash_array\u001B[0m\u001B[1;33m(\u001B[0m\u001B[0mvalues\u001B[0m\u001B[1;33m,\u001B[0m \u001B[0mencoding\u001B[0m\u001B[1;33m,\u001B[0m \u001B[0mhash_key\u001B[0m\u001B[1;33m,\u001B[0m \u001B[0mcategorize\u001B[0m\u001B[1;33m=\u001B[0m\u001B[1;32mFalse\u001B[0m\u001B[1;33m)\u001B[0m\u001B[1;33m\u001B[0m\u001B[1;33m\u001B[0m\u001B[0m\n\u001B[0m\u001B[0;32m    236\u001B[0m \u001B[1;33m\u001B[0m\u001B[0m\n\u001B[0;32m    237\u001B[0m     \u001B[1;31m# we have uint64, as we don't directly support missing values\u001B[0m\u001B[1;33m\u001B[0m\u001B[1;33m\u001B[0m\u001B[0m\n",
      "\u001B[1;32m~\\anaconda3\\lib\\site-packages\\pandas\\core\\util\\hashing.py\u001B[0m in \u001B[0;36mhash_array\u001B[1;34m(vals, encoding, hash_key, categorize)\u001B[0m\n\u001B[0;32m    293\u001B[0m         \u001B[0mvals\u001B[0m\u001B[1;33m,\u001B[0m \u001B[0m_\u001B[0m \u001B[1;33m=\u001B[0m \u001B[0mvals\u001B[0m\u001B[1;33m.\u001B[0m\u001B[0m_values_for_factorize\u001B[0m\u001B[1;33m(\u001B[0m\u001B[1;33m)\u001B[0m\u001B[1;33m\u001B[0m\u001B[1;33m\u001B[0m\u001B[0m\n\u001B[0;32m    294\u001B[0m \u001B[1;33m\u001B[0m\u001B[0m\n\u001B[1;32m--> 295\u001B[1;33m     \u001B[1;32mreturn\u001B[0m \u001B[0m_hash_ndarray\u001B[0m\u001B[1;33m(\u001B[0m\u001B[0mvals\u001B[0m\u001B[1;33m,\u001B[0m \u001B[0mencoding\u001B[0m\u001B[1;33m,\u001B[0m \u001B[0mhash_key\u001B[0m\u001B[1;33m,\u001B[0m \u001B[0mcategorize\u001B[0m\u001B[1;33m)\u001B[0m\u001B[1;33m\u001B[0m\u001B[1;33m\u001B[0m\u001B[0m\n\u001B[0m\u001B[0;32m    296\u001B[0m \u001B[1;33m\u001B[0m\u001B[0m\n\u001B[0;32m    297\u001B[0m \u001B[1;33m\u001B[0m\u001B[0m\n",
      "\u001B[1;32m~\\anaconda3\\lib\\site-packages\\pandas\\core\\util\\hashing.py\u001B[0m in \u001B[0;36m_hash_ndarray\u001B[1;34m(vals, encoding, hash_key, categorize)\u001B[0m\n\u001B[0;32m    336\u001B[0m \u001B[1;33m\u001B[0m\u001B[0m\n\u001B[0;32m    337\u001B[0m         \u001B[1;32mtry\u001B[0m\u001B[1;33m:\u001B[0m\u001B[1;33m\u001B[0m\u001B[1;33m\u001B[0m\u001B[0m\n\u001B[1;32m--> 338\u001B[1;33m             \u001B[0mvals\u001B[0m \u001B[1;33m=\u001B[0m \u001B[0mhash_object_array\u001B[0m\u001B[1;33m(\u001B[0m\u001B[0mvals\u001B[0m\u001B[1;33m,\u001B[0m \u001B[0mhash_key\u001B[0m\u001B[1;33m,\u001B[0m \u001B[0mencoding\u001B[0m\u001B[1;33m)\u001B[0m\u001B[1;33m\u001B[0m\u001B[1;33m\u001B[0m\u001B[0m\n\u001B[0m\u001B[0;32m    339\u001B[0m         \u001B[1;32mexcept\u001B[0m \u001B[0mTypeError\u001B[0m\u001B[1;33m:\u001B[0m\u001B[1;33m\u001B[0m\u001B[1;33m\u001B[0m\u001B[0m\n\u001B[0;32m    340\u001B[0m             \u001B[1;31m# we have mixed types\u001B[0m\u001B[1;33m\u001B[0m\u001B[1;33m\u001B[0m\u001B[0m\n",
      "\u001B[1;32m~\\anaconda3\\lib\\site-packages\\pandas\\_libs\\hashing.pyx\u001B[0m in \u001B[0;36mpandas._libs.hashing.hash_object_array\u001B[1;34m()\u001B[0m\n",
      "\u001B[1;32m~\\anaconda3\\lib\\site-packages\\interchange\\time.py\u001B[0m in \u001B[0;36m__format__\u001B[1;34m(self, format_spec)\u001B[0m\n\u001B[0;32m    829\u001B[0m \u001B[1;33m\u001B[0m\u001B[0m\n\u001B[0;32m    830\u001B[0m     \u001B[1;32mdef\u001B[0m \u001B[0m__format__\u001B[0m\u001B[1;33m(\u001B[0m\u001B[0mself\u001B[0m\u001B[1;33m,\u001B[0m \u001B[0mformat_spec\u001B[0m\u001B[1;33m)\u001B[0m\u001B[1;33m:\u001B[0m\u001B[1;33m\u001B[0m\u001B[1;33m\u001B[0m\u001B[0m\n\u001B[1;32m--> 831\u001B[1;33m         \u001B[1;32mraise\u001B[0m \u001B[0mNotImplementedError\u001B[0m\u001B[1;33m(\u001B[0m\u001B[1;33m)\u001B[0m\u001B[1;33m\u001B[0m\u001B[1;33m\u001B[0m\u001B[0m\n\u001B[0m\u001B[0;32m    832\u001B[0m \u001B[1;33m\u001B[0m\u001B[0m\n\u001B[0;32m    833\u001B[0m     \u001B[0mstrftime\u001B[0m \u001B[1;33m=\u001B[0m \u001B[0m__format__\u001B[0m\u001B[1;33m\u001B[0m\u001B[1;33m\u001B[0m\u001B[0m\n",
      "\u001B[1;31mNotImplementedError\u001B[0m: "
     ]
    }
   ],
   "source": [
    "g = graphistry.bind()\n",
    "g = g.bind(source=\"id1\", destination=\"id2\",node=\"id\").nodes(q_for_date_data).edges(q_for_date_edges)\n",
    "viz.plot()"
   ]
  },
  {
   "cell_type": "code",
   "execution_count": null,
   "id": "2512ec98",
   "metadata": {},
   "outputs": [],
   "source": []
  },
  {
   "cell_type": "code",
   "execution_count": null,
   "id": "126dc2cc",
   "metadata": {},
   "outputs": [],
   "source": []
  },
  {
   "cell_type": "code",
   "execution_count": null,
   "id": "3bea3087",
   "metadata": {},
   "outputs": [],
   "source": []
  },
  {
   "cell_type": "code",
   "execution_count": null,
   "id": "3573f881",
   "metadata": {},
   "outputs": [],
   "source": []
  },
  {
   "cell_type": "code",
   "execution_count": 187,
   "id": "26c0eda1",
   "metadata": {},
   "outputs": [],
   "source": [
    "# dates without day give the monsth's first day \n",
    "query_for_given_date = \"\"\"\n",
    "    MATCH (u:user {views: \"7879\"})\n",
    "    RETURN u.numeric_id\n",
    "    \"\"\""
   ]
  },
  {
   "cell_type": "code",
   "execution_count": 191,
   "id": "6c7fd7e2",
   "metadata": {},
   "outputs": [],
   "source": [
    "q_for_date_data = graph.run(query_for_given_date).to_data_frame()"
   ]
  },
  {
   "cell_type": "code",
   "execution_count": 192,
   "id": "793d199a",
   "metadata": {},
   "outputs": [
    {
     "data": {
      "text/html": [
       "<div>\n",
       "<style scoped>\n",
       "    .dataframe tbody tr th:only-of-type {\n",
       "        vertical-align: middle;\n",
       "    }\n",
       "\n",
       "    .dataframe tbody tr th {\n",
       "        vertical-align: top;\n",
       "    }\n",
       "\n",
       "    .dataframe thead th {\n",
       "        text-align: right;\n",
       "    }\n",
       "</style>\n",
       "<table border=\"1\" class=\"dataframe\">\n",
       "  <thead>\n",
       "    <tr style=\"text-align: right;\">\n",
       "      <th></th>\n",
       "      <th>id</th>\n",
       "      <th>CREATED_AT</th>\n",
       "      <th>LANGUAGE</th>\n",
       "    </tr>\n",
       "  </thead>\n",
       "  <tbody>\n",
       "    <tr>\n",
       "      <th>0</th>\n",
       "      <td>11</td>\n",
       "      <td>2014-01-31</td>\n",
       "      <td>EN</td>\n",
       "    </tr>\n",
       "  </tbody>\n",
       "</table>\n",
       "</div>"
      ],
      "text/plain": [
       "   id  CREATED_AT LANGUAGE\n",
       "0  11  2014-01-31       EN"
      ]
     },
     "execution_count": 192,
     "metadata": {},
     "output_type": "execute_result"
    }
   ],
   "source": [
    "q_for_date_data"
   ]
  },
  {
   "cell_type": "code",
   "execution_count": 197,
   "id": "c33549b5",
   "metadata": {},
   "outputs": [
    {
     "data": {
      "text/plain": [
       "'1'"
      ]
     },
     "execution_count": 197,
     "metadata": {},
     "output_type": "execute_result"
    }
   ],
   "source": [
    "graph.run(\"\"\"MATCH (u:user) WHERE u.mature=\"0\" RETURN u.numeric_id\"\"\").evaluate()"
   ]
  },
  {
   "cell_type": "code",
   "execution_count": null,
   "id": "c80709a4",
   "metadata": {},
   "outputs": [],
   "source": []
  }
 ],
 "metadata": {
  "kernelspec": {
   "display_name": "Python 3 (ipykernel)",
   "language": "python",
   "name": "python3"
  },
  "language_info": {
   "codemirror_mode": {
    "name": "ipython",
    "version": 3
   },
   "file_extension": ".py",
   "mimetype": "text/x-python",
   "name": "python",
   "nbconvert_exporter": "python",
   "pygments_lexer": "ipython3",
   "version": "3.9.7"
  }
 },
 "nbformat": 4,
 "nbformat_minor": 5
}